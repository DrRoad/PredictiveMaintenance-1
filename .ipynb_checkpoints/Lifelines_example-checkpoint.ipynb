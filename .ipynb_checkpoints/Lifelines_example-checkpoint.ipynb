{
 "cells": [
  {
   "cell_type": "code",
   "execution_count": 1,
   "metadata": {
    "collapsed": true
   },
   "outputs": [],
   "source": [
    "import pandas as pd\n",
    "import lifelines\n",
    "\n",
    "data = lifelines.datasets.load_dd()"
   ]
  },
  {
   "cell_type": "code",
   "execution_count": 2,
   "metadata": {},
   "outputs": [
    {
     "data": {
      "text/html": [
       "<div>\n",
       "<style>\n",
       "    .dataframe thead tr:only-child th {\n",
       "        text-align: right;\n",
       "    }\n",
       "\n",
       "    .dataframe thead th {\n",
       "        text-align: left;\n",
       "    }\n",
       "\n",
       "    .dataframe tbody tr th {\n",
       "        vertical-align: top;\n",
       "    }\n",
       "</style>\n",
       "<table border=\"1\" class=\"dataframe\">\n",
       "  <thead>\n",
       "    <tr style=\"text-align: right;\">\n",
       "      <th></th>\n",
       "      <th>ctryname</th>\n",
       "      <th>cowcode2</th>\n",
       "      <th>politycode</th>\n",
       "      <th>un_region_name</th>\n",
       "      <th>un_continent_name</th>\n",
       "      <th>ehead</th>\n",
       "      <th>leaderspellreg</th>\n",
       "      <th>democracy</th>\n",
       "      <th>regime</th>\n",
       "      <th>start_year</th>\n",
       "      <th>duration</th>\n",
       "      <th>observed</th>\n",
       "    </tr>\n",
       "  </thead>\n",
       "  <tbody>\n",
       "    <tr>\n",
       "      <th>1706</th>\n",
       "      <td>United Kingdom</td>\n",
       "      <td>200</td>\n",
       "      <td>200.0</td>\n",
       "      <td>Northern Europe</td>\n",
       "      <td>Europe</td>\n",
       "      <td>Edward Heath</td>\n",
       "      <td>Edward Heath.United Kingdom.1970.1973.Parliame...</td>\n",
       "      <td>Democracy</td>\n",
       "      <td>Parliamentary Dem</td>\n",
       "      <td>1970</td>\n",
       "      <td>4</td>\n",
       "      <td>1</td>\n",
       "    </tr>\n",
       "    <tr>\n",
       "      <th>615</th>\n",
       "      <td>Greece</td>\n",
       "      <td>350</td>\n",
       "      <td>350.0</td>\n",
       "      <td>Southern Europe</td>\n",
       "      <td>Europe</td>\n",
       "      <td>Ioannis Paraskevopoulos</td>\n",
       "      <td>Ioannis Paraskevopoulos.Greece.1966.1966.Parli...</td>\n",
       "      <td>Democracy</td>\n",
       "      <td>Parliamentary Dem</td>\n",
       "      <td>1966</td>\n",
       "      <td>1</td>\n",
       "      <td>1</td>\n",
       "    </tr>\n",
       "    <tr>\n",
       "      <th>654</th>\n",
       "      <td>Guinea</td>\n",
       "      <td>438</td>\n",
       "      <td>438.0</td>\n",
       "      <td>Western Africa</td>\n",
       "      <td>Africa</td>\n",
       "      <td>Moussa Dadis Camara</td>\n",
       "      <td>Moussa Dadis Camara.Guinea.2008.2008.Military ...</td>\n",
       "      <td>Non-democracy</td>\n",
       "      <td>Military Dict</td>\n",
       "      <td>2008</td>\n",
       "      <td>1</td>\n",
       "      <td>0</td>\n",
       "    </tr>\n",
       "    <tr>\n",
       "      <th>132</th>\n",
       "      <td>Belgium</td>\n",
       "      <td>211</td>\n",
       "      <td>211.0</td>\n",
       "      <td>Western Europe</td>\n",
       "      <td>Europe</td>\n",
       "      <td>Jean-Luc Dehaene</td>\n",
       "      <td>Jean-Luc Dehaene.Belgium.1992.1998.Parliamenta...</td>\n",
       "      <td>Democracy</td>\n",
       "      <td>Parliamentary Dem</td>\n",
       "      <td>1992</td>\n",
       "      <td>7</td>\n",
       "      <td>1</td>\n",
       "    </tr>\n",
       "    <tr>\n",
       "      <th>1281</th>\n",
       "      <td>Poland</td>\n",
       "      <td>290</td>\n",
       "      <td>290.0</td>\n",
       "      <td>Eastern Europe</td>\n",
       "      <td>Europe</td>\n",
       "      <td>Jozef Oleksy</td>\n",
       "      <td>Jozef Oleksy.Poland.1995.1995.Mixed Dem</td>\n",
       "      <td>Democracy</td>\n",
       "      <td>Mixed Dem</td>\n",
       "      <td>1995</td>\n",
       "      <td>1</td>\n",
       "      <td>1</td>\n",
       "    </tr>\n",
       "    <tr>\n",
       "      <th>1210</th>\n",
       "      <td>Palau</td>\n",
       "      <td>986</td>\n",
       "      <td>986.0</td>\n",
       "      <td>Micronesia</td>\n",
       "      <td>Oceania</td>\n",
       "      <td>Kuniwo Nakamura</td>\n",
       "      <td>Kuniwo Nakamura.Palau.1994.2000.Presidential Dem</td>\n",
       "      <td>Democracy</td>\n",
       "      <td>Presidential Dem</td>\n",
       "      <td>1994</td>\n",
       "      <td>7</td>\n",
       "      <td>1</td>\n",
       "    </tr>\n",
       "  </tbody>\n",
       "</table>\n",
       "</div>"
      ],
      "text/plain": [
       "            ctryname  cowcode2  politycode   un_region_name un_continent_name  \\\n",
       "1706  United Kingdom       200       200.0  Northern Europe            Europe   \n",
       "615           Greece       350       350.0  Southern Europe            Europe   \n",
       "654           Guinea       438       438.0   Western Africa            Africa   \n",
       "132          Belgium       211       211.0   Western Europe            Europe   \n",
       "1281          Poland       290       290.0   Eastern Europe            Europe   \n",
       "1210           Palau       986       986.0       Micronesia           Oceania   \n",
       "\n",
       "                        ehead  \\\n",
       "1706             Edward Heath   \n",
       "615   Ioannis Paraskevopoulos   \n",
       "654       Moussa Dadis Camara   \n",
       "132          Jean-Luc Dehaene   \n",
       "1281             Jozef Oleksy   \n",
       "1210          Kuniwo Nakamura   \n",
       "\n",
       "                                         leaderspellreg      democracy  \\\n",
       "1706  Edward Heath.United Kingdom.1970.1973.Parliame...      Democracy   \n",
       "615   Ioannis Paraskevopoulos.Greece.1966.1966.Parli...      Democracy   \n",
       "654   Moussa Dadis Camara.Guinea.2008.2008.Military ...  Non-democracy   \n",
       "132   Jean-Luc Dehaene.Belgium.1992.1998.Parliamenta...      Democracy   \n",
       "1281            Jozef Oleksy.Poland.1995.1995.Mixed Dem      Democracy   \n",
       "1210   Kuniwo Nakamura.Palau.1994.2000.Presidential Dem      Democracy   \n",
       "\n",
       "                 regime  start_year  duration  observed  \n",
       "1706  Parliamentary Dem        1970         4         1  \n",
       "615   Parliamentary Dem        1966         1         1  \n",
       "654       Military Dict        2008         1         0  \n",
       "132   Parliamentary Dem        1992         7         1  \n",
       "1281          Mixed Dem        1995         1         1  \n",
       "1210   Presidential Dem        1994         7         1  "
      ]
     },
     "execution_count": 2,
     "metadata": {},
     "output_type": "execute_result"
    }
   ],
   "source": [
    "data.sample(6)"
   ]
  },
  {
   "cell_type": "code",
   "execution_count": 5,
   "metadata": {
    "collapsed": true
   },
   "outputs": [],
   "source": [
    "from lifelines import KaplanMeierFitter\n",
    "kmf = KaplanMeierFitter()"
   ]
  },
  {
   "cell_type": "code",
   "execution_count": 6,
   "metadata": {},
   "outputs": [
    {
     "data": {
      "text/plain": [
       "<lifelines.KaplanMeierFitter: fitted with 1808 observations, 340 censored>"
      ]
     },
     "execution_count": 6,
     "metadata": {},
     "output_type": "execute_result"
    }
   ],
   "source": [
    "T = data[\"duration\"]\n",
    "E = data[\"observed\"]\n",
    "\n",
    "kmf.fit(T, event_observed=E)"
   ]
  },
  {
   "cell_type": "code",
   "execution_count": 8,
   "metadata": {
    "collapsed": true
   },
   "outputs": [],
   "source": [
    "import matplotlib.pyplot as plt"
   ]
  },
  {
   "cell_type": "code",
   "execution_count": 12,
   "metadata": {
    "collapsed": true
   },
   "outputs": [],
   "source": [
    "%matplotlib inline"
   ]
  },
  {
   "cell_type": "code",
   "execution_count": 13,
   "metadata": {},
   "outputs": [
    {
     "data": {
      "image/png": "[encoded data removed]",
      "text/plain": [
       "<matplotlib.figure.Figure at 0x110bdd8d0>"
      ]
     },
     "metadata": {},
     "output_type": "display_data"
    }
   ],
   "source": [
    "kmf.survival_function_.plot()\n",
    "plt.title('Survival function of political regimes');"
   ]
  },
  {
   "cell_type": "code",
   "execution_count": 15,
   "metadata": {},
   "outputs": [
    {
     "data": {
      "text/plain": [
       "<matplotlib.axes._subplots.AxesSubplot at 0x110921908>"
      ]
     },
     "execution_count": 15,
     "metadata": {},
     "output_type": "execute_result"
    },
    {
     "data": {
      "image/png": "[encoded data removed]",
      "text/plain": [
       "<matplotlib.figure.Figure at 0x110c2acf8>"
      ]
     },
     "metadata": {},
     "output_type": "display_data"
    }
   ],
   "source": [
    "kmf.plot()"
   ]
  },
  {
   "cell_type": "code",
   "execution_count": 16,
   "metadata": {},
   "outputs": [
    {
     "data": {
      "text/plain": [
       "4.0"
      ]
     },
     "execution_count": 16,
     "metadata": {},
     "output_type": "execute_result"
    }
   ],
   "source": [
    "kmf.median_"
   ]
  },
  {
   "cell_type": "code",
   "execution_count": 19,
   "metadata": {},
   "outputs": [
    {
     "data": {
      "image/png": "[encoded data removed]",
      "text/plain": [
       "<matplotlib.figure.Figure at 0x111483198>"
      ]
     },
     "metadata": {},
     "output_type": "display_data"
    }
   ],
   "source": [
    "ax = plt.subplot(111)\n",
    "\n",
    "dem = (data[\"democracy\"] == \"Democracy\")\n",
    "kmf.fit(T[dem], event_observed=E[dem], label=\"Democratic Regimes\")\n",
    "kmf.plot(ax=ax, ci_force_lines=True)\n",
    "kmf.fit(T[~dem], event_observed=E[~dem], label=\"Non-democratic Regimes\")\n",
    "kmf.plot(ax=ax, ci_force_lines=True)\n",
    "\n",
    "plt.ylim(0, 1);\n",
    "plt.title(\"Lifespans of different global regimes\");"
   ]
  },
  {
   "cell_type": "code",
   "execution_count": 25,
   "metadata": {
    "collapsed": true
   },
   "outputs": [],
   "source": [
    "import numpy as np"
   ]
  },
  {
   "cell_type": "code",
   "execution_count": 26,
   "metadata": {},
   "outputs": [
    {
     "name": "stdout",
     "output_type": "stream",
     "text": [
      "Median survival time of democratic: 3.0\n",
      "Median survival time of non-democratic: 6.0\n"
     ]
    },
    {
     "data": {
      "image/png": "[encoded data removed]",
      "text/plain": [
       "<matplotlib.figure.Figure at 0x1115bd978>"
      ]
     },
     "metadata": {},
     "output_type": "display_data"
    }
   ],
   "source": [
    "ax = plt.subplot(111)\n",
    "\n",
    "t = np.linspace(0, 50, 51)\n",
    "kmf.fit(T[dem], event_observed=E[dem], timeline=t, label=\"Democratic Regimes\")\n",
    "ax = kmf.plot(ax=ax)\n",
    "print(\"Median survival time of democratic:\", kmf.median_)\n",
    "\n",
    "kmf.fit(T[~dem], event_observed=E[~dem], timeline=t, label=\"Non-democratic Regimes\")\n",
    "ax = kmf.plot(ax=ax)\n",
    "print(\"Median survival time of non-democratic:\", kmf.median_)\n",
    "\n",
    "plt.ylim(0,1)\n",
    "plt.title(\"Lifespans of different global regimes\");"
   ]
  },
  {
   "cell_type": "code",
   "execution_count": 27,
   "metadata": {},
   "outputs": [
    {
     "name": "stdout",
     "output_type": "stream",
     "text": [
      "Results\n",
      "   t 0: -1\n",
      "   test: logrank\n",
      "   alpha: 0.99\n",
      "   null distribution: chi squared\n",
      "   df: 1\n",
      "\n",
      "   __ p-value ___|__ test statistic __|____ test result ____|__ is significant __\n",
      "         0.00000 |            260.470 |      Reject Null    |        True       \n"
     ]
    }
   ],
   "source": [
    "from lifelines.statistics import logrank_test\n",
    "\n",
    "results = logrank_test(T[dem], T[~dem], E[dem], E[~dem], alpha=.99)\n",
    "\n",
    "results.print_summary()"
   ]
  },
  {
   "cell_type": "code",
   "execution_count": 32,
   "metadata": {},
   "outputs": [
    {
     "data": {
      "image/png": "[encoded data removed]",
      "text/plain": [
       "<matplotlib.figure.Figure at 0x110a3a898>"
      ]
     },
     "metadata": {},
     "output_type": "display_data"
    }
   ],
   "source": [
    "regime_types = data['regime'].unique()\n",
    "\n",
    "for i,regime_type in enumerate(regime_types):\n",
    "    ax = plt.subplot(2, 3, i+1)\n",
    "    ix = data['regime'] == regime_type\n",
    "    kmf.fit( T[ix], E[ix], label=regime_type)\n",
    "    kmf.plot(ax=ax, legend=False)\n",
    "    plt.title(regime_type)\n",
    "    plt.xlim(0, 50)\n",
    "    if i==0:\n",
    "        plt.ylabel('Frac. in power after $n$ years')\n",
    "plt.tight_layout()"
   ]
  },
  {
   "cell_type": "code",
   "execution_count": 33,
   "metadata": {},
   "outputs": [
    {
     "data": {
      "text/html": [
       "<div>\n",
       "<style>\n",
       "    .dataframe thead tr:only-child th {\n",
       "        text-align: right;\n",
       "    }\n",
       "\n",
       "    .dataframe thead th {\n",
       "        text-align: left;\n",
       "    }\n",
       "\n",
       "    .dataframe tbody tr th {\n",
       "        vertical-align: top;\n",
       "    }\n",
       "</style>\n",
       "<table border=\"1\" class=\"dataframe\">\n",
       "  <thead>\n",
       "    <tr style=\"text-align: right;\">\n",
       "      <th></th>\n",
       "      <th>ctryname</th>\n",
       "      <th>cowcode2</th>\n",
       "      <th>politycode</th>\n",
       "      <th>un_region_name</th>\n",
       "      <th>un_continent_name</th>\n",
       "      <th>ehead</th>\n",
       "      <th>leaderspellreg</th>\n",
       "      <th>democracy</th>\n",
       "      <th>regime</th>\n",
       "      <th>start_year</th>\n",
       "      <th>duration</th>\n",
       "      <th>observed</th>\n",
       "    </tr>\n",
       "  </thead>\n",
       "  <tbody>\n",
       "    <tr>\n",
       "      <th>0</th>\n",
       "      <td>Afghanistan</td>\n",
       "      <td>700</td>\n",
       "      <td>700.0</td>\n",
       "      <td>Southern Asia</td>\n",
       "      <td>Asia</td>\n",
       "      <td>Mohammad Zahir Shah</td>\n",
       "      <td>Mohammad Zahir Shah.Afghanistan.1946.1952.Mona...</td>\n",
       "      <td>Non-democracy</td>\n",
       "      <td>Monarchy</td>\n",
       "      <td>1946</td>\n",
       "      <td>7</td>\n",
       "      <td>1</td>\n",
       "    </tr>\n",
       "    <tr>\n",
       "      <th>1</th>\n",
       "      <td>Afghanistan</td>\n",
       "      <td>700</td>\n",
       "      <td>700.0</td>\n",
       "      <td>Southern Asia</td>\n",
       "      <td>Asia</td>\n",
       "      <td>Sardar Mohammad Daoud</td>\n",
       "      <td>Sardar Mohammad Daoud.Afghanistan.1953.1962.Ci...</td>\n",
       "      <td>Non-democracy</td>\n",
       "      <td>Civilian Dict</td>\n",
       "      <td>1953</td>\n",
       "      <td>10</td>\n",
       "      <td>1</td>\n",
       "    </tr>\n",
       "    <tr>\n",
       "      <th>2</th>\n",
       "      <td>Afghanistan</td>\n",
       "      <td>700</td>\n",
       "      <td>700.0</td>\n",
       "      <td>Southern Asia</td>\n",
       "      <td>Asia</td>\n",
       "      <td>Mohammad Zahir Shah</td>\n",
       "      <td>Mohammad Zahir Shah.Afghanistan.1963.1972.Mona...</td>\n",
       "      <td>Non-democracy</td>\n",
       "      <td>Monarchy</td>\n",
       "      <td>1963</td>\n",
       "      <td>10</td>\n",
       "      <td>1</td>\n",
       "    </tr>\n",
       "    <tr>\n",
       "      <th>3</th>\n",
       "      <td>Afghanistan</td>\n",
       "      <td>700</td>\n",
       "      <td>700.0</td>\n",
       "      <td>Southern Asia</td>\n",
       "      <td>Asia</td>\n",
       "      <td>Sardar Mohammad Daoud</td>\n",
       "      <td>Sardar Mohammad Daoud.Afghanistan.1973.1977.Ci...</td>\n",
       "      <td>Non-democracy</td>\n",
       "      <td>Civilian Dict</td>\n",
       "      <td>1973</td>\n",
       "      <td>5</td>\n",
       "      <td>0</td>\n",
       "    </tr>\n",
       "    <tr>\n",
       "      <th>4</th>\n",
       "      <td>Afghanistan</td>\n",
       "      <td>700</td>\n",
       "      <td>700.0</td>\n",
       "      <td>Southern Asia</td>\n",
       "      <td>Asia</td>\n",
       "      <td>Nur Mohammad Taraki</td>\n",
       "      <td>Nur Mohammad Taraki.Afghanistan.1978.1978.Civi...</td>\n",
       "      <td>Non-democracy</td>\n",
       "      <td>Civilian Dict</td>\n",
       "      <td>1978</td>\n",
       "      <td>1</td>\n",
       "      <td>0</td>\n",
       "    </tr>\n",
       "  </tbody>\n",
       "</table>\n",
       "</div>"
      ],
      "text/plain": [
       "      ctryname  cowcode2  politycode un_region_name un_continent_name  \\\n",
       "0  Afghanistan       700       700.0  Southern Asia              Asia   \n",
       "1  Afghanistan       700       700.0  Southern Asia              Asia   \n",
       "2  Afghanistan       700       700.0  Southern Asia              Asia   \n",
       "3  Afghanistan       700       700.0  Southern Asia              Asia   \n",
       "4  Afghanistan       700       700.0  Southern Asia              Asia   \n",
       "\n",
       "                   ehead                                     leaderspellreg  \\\n",
       "0    Mohammad Zahir Shah  Mohammad Zahir Shah.Afghanistan.1946.1952.Mona...   \n",
       "1  Sardar Mohammad Daoud  Sardar Mohammad Daoud.Afghanistan.1953.1962.Ci...   \n",
       "2    Mohammad Zahir Shah  Mohammad Zahir Shah.Afghanistan.1963.1972.Mona...   \n",
       "3  Sardar Mohammad Daoud  Sardar Mohammad Daoud.Afghanistan.1973.1977.Ci...   \n",
       "4    Nur Mohammad Taraki  Nur Mohammad Taraki.Afghanistan.1978.1978.Civi...   \n",
       "\n",
       "       democracy         regime  start_year  duration  observed  \n",
       "0  Non-democracy       Monarchy        1946         7         1  \n",
       "1  Non-democracy  Civilian Dict        1953        10         1  \n",
       "2  Non-democracy       Monarchy        1963        10         1  \n",
       "3  Non-democracy  Civilian Dict        1973         5         0  \n",
       "4  Non-democracy  Civilian Dict        1978         1         0  "
      ]
     },
     "execution_count": 33,
     "metadata": {},
     "output_type": "execute_result"
    }
   ],
   "source": [
    "from lifelines import AalenAdditiveFitter\n",
    "data.head()"
   ]
  },
  {
   "cell_type": "code",
   "execution_count": 34,
   "metadata": {
    "collapsed": true
   },
   "outputs": [],
   "source": [
    "import patsy\n",
    "X = patsy.dmatrix('un_continent_name + regime + start_year -1', data, return_type='dataframe')"
   ]
  },
  {
   "cell_type": "code",
   "execution_count": 35,
   "metadata": {},
   "outputs": [
    {
     "data": {
      "text/plain": [
       "Index(['un_continent_name[Africa]', 'un_continent_name[Americas]',\n",
       "       'un_continent_name[Asia]', 'un_continent_name[Europe]',\n",
       "       'un_continent_name[Oceania]', 'regime[T.Military Dict]',\n",
       "       'regime[T.Mixed Dem]', 'regime[T.Monarchy]',\n",
       "       'regime[T.Parliamentary Dem]', 'regime[T.Presidential Dem]',\n",
       "       'start_year'],\n",
       "      dtype='object')"
      ]
     },
     "execution_count": 35,
     "metadata": {},
     "output_type": "execute_result"
    }
   ],
   "source": [
    "X.columns"
   ]
  },
  {
   "cell_type": "code",
   "execution_count": 36,
   "metadata": {
    "collapsed": true
   },
   "outputs": [],
   "source": [
    "aaf = AalenAdditiveFitter(coef_penalizer=1.0, fit_intercept=True)"
   ]
  },
  {
   "cell_type": "code",
   "execution_count": 37,
   "metadata": {
    "collapsed": true
   },
   "outputs": [],
   "source": [
    "data = lifelines.datasets.load_dd()\n",
    "\n",
    "X['T'] = data['duration']\n",
    "X['E'] = data['observed']"
   ]
  },
  {
   "cell_type": "code",
   "execution_count": 38,
   "metadata": {},
   "outputs": [
    {
     "name": "stdout",
     "output_type": "stream",
     "text": [
      " [-----------------100%-----------------] 1468 of 1468 complete in 1.1 sec\n"
     ]
    },
    {
     "data": {
      "text/plain": [
       "<lifelines.AalenAdditiveFitter: fitted with 1808 observations, 340 censored>"
      ]
     },
     "execution_count": 38,
     "metadata": {},
     "output_type": "execute_result"
    }
   ],
   "source": [
    "aaf.fit(X, 'T', event_col='E')"
   ]
  },
  {
   "cell_type": "code",
   "execution_count": 42,
   "metadata": {},
   "outputs": [
    {
     "data": {
      "text/html": [
       "<div>\n",
       "<style>\n",
       "    .dataframe thead tr:only-child th {\n",
       "        text-align: right;\n",
       "    }\n",
       "\n",
       "    .dataframe thead th {\n",
       "        text-align: left;\n",
       "    }\n",
       "\n",
       "    .dataframe tbody tr th {\n",
       "        vertical-align: top;\n",
       "    }\n",
       "</style>\n",
       "<table border=\"1\" class=\"dataframe\">\n",
       "  <thead>\n",
       "    <tr style=\"text-align: right;\">\n",
       "      <th></th>\n",
       "      <th>un_continent_name[Africa]</th>\n",
       "      <th>un_continent_name[Americas]</th>\n",
       "      <th>un_continent_name[Asia]</th>\n",
       "      <th>un_continent_name[Europe]</th>\n",
       "      <th>un_continent_name[Oceania]</th>\n",
       "      <th>regime[T.Military Dict]</th>\n",
       "      <th>regime[T.Mixed Dem]</th>\n",
       "      <th>regime[T.Monarchy]</th>\n",
       "      <th>regime[T.Parliamentary Dem]</th>\n",
       "      <th>regime[T.Presidential Dem]</th>\n",
       "      <th>start_year</th>\n",
       "      <th>baseline</th>\n",
       "    </tr>\n",
       "  </thead>\n",
       "  <tbody>\n",
       "    <tr>\n",
       "      <th>1</th>\n",
       "      <td>-0.051595</td>\n",
       "      <td>-0.082406</td>\n",
       "      <td>0.010666</td>\n",
       "      <td>0.154493</td>\n",
       "      <td>-0.060438</td>\n",
       "      <td>0.075333</td>\n",
       "      <td>0.086274</td>\n",
       "      <td>-0.133938</td>\n",
       "      <td>0.048077</td>\n",
       "      <td>0.127171</td>\n",
       "      <td>0.000116</td>\n",
       "      <td>-0.029280</td>\n",
       "    </tr>\n",
       "    <tr>\n",
       "      <th>2</th>\n",
       "      <td>-0.014713</td>\n",
       "      <td>-0.039471</td>\n",
       "      <td>0.095668</td>\n",
       "      <td>0.194251</td>\n",
       "      <td>-0.092696</td>\n",
       "      <td>0.115033</td>\n",
       "      <td>0.358702</td>\n",
       "      <td>-0.226233</td>\n",
       "      <td>0.168783</td>\n",
       "      <td>0.121862</td>\n",
       "      <td>0.000053</td>\n",
       "      <td>0.143039</td>\n",
       "    </tr>\n",
       "    <tr>\n",
       "      <th>3</th>\n",
       "      <td>0.007389</td>\n",
       "      <td>-0.064758</td>\n",
       "      <td>0.115121</td>\n",
       "      <td>0.170549</td>\n",
       "      <td>0.069371</td>\n",
       "      <td>0.161490</td>\n",
       "      <td>0.677347</td>\n",
       "      <td>-0.271183</td>\n",
       "      <td>0.328483</td>\n",
       "      <td>0.146234</td>\n",
       "      <td>0.000004</td>\n",
       "      <td>0.297672</td>\n",
       "    </tr>\n",
       "    <tr>\n",
       "      <th>4</th>\n",
       "      <td>-0.058418</td>\n",
       "      <td>0.011399</td>\n",
       "      <td>0.091784</td>\n",
       "      <td>0.205824</td>\n",
       "      <td>0.125722</td>\n",
       "      <td>0.220028</td>\n",
       "      <td>0.932674</td>\n",
       "      <td>-0.294900</td>\n",
       "      <td>0.365604</td>\n",
       "      <td>0.422617</td>\n",
       "      <td>0.000002</td>\n",
       "      <td>0.376311</td>\n",
       "    </tr>\n",
       "    <tr>\n",
       "      <th>5</th>\n",
       "      <td>-0.099282</td>\n",
       "      <td>0.106641</td>\n",
       "      <td>0.112083</td>\n",
       "      <td>0.150708</td>\n",
       "      <td>0.091900</td>\n",
       "      <td>0.241575</td>\n",
       "      <td>1.123860</td>\n",
       "      <td>-0.391103</td>\n",
       "      <td>0.536185</td>\n",
       "      <td>0.743913</td>\n",
       "      <td>0.000057</td>\n",
       "      <td>0.362049</td>\n",
       "    </tr>\n",
       "  </tbody>\n",
       "</table>\n",
       "</div>"
      ],
      "text/plain": [
       "   un_continent_name[Africa]  un_continent_name[Americas]  \\\n",
       "1                  -0.051595                    -0.082406   \n",
       "2                  -0.014713                    -0.039471   \n",
       "3                   0.007389                    -0.064758   \n",
       "4                  -0.058418                     0.011399   \n",
       "5                  -0.099282                     0.106641   \n",
       "\n",
       "   un_continent_name[Asia]  un_continent_name[Europe]  \\\n",
       "1                 0.010666                   0.154493   \n",
       "2                 0.095668                   0.194251   \n",
       "3                 0.115121                   0.170549   \n",
       "4                 0.091784                   0.205824   \n",
       "5                 0.112083                   0.150708   \n",
       "\n",
       "   un_continent_name[Oceania]  regime[T.Military Dict]  regime[T.Mixed Dem]  \\\n",
       "1                   -0.060438                 0.075333             0.086274   \n",
       "2                   -0.092696                 0.115033             0.358702   \n",
       "3                    0.069371                 0.161490             0.677347   \n",
       "4                    0.125722                 0.220028             0.932674   \n",
       "5                    0.091900                 0.241575             1.123860   \n",
       "\n",
       "   regime[T.Monarchy]  regime[T.Parliamentary Dem]  \\\n",
       "1           -0.133938                     0.048077   \n",
       "2           -0.226233                     0.168783   \n",
       "3           -0.271183                     0.328483   \n",
       "4           -0.294900                     0.365604   \n",
       "5           -0.391103                     0.536185   \n",
       "\n",
       "   regime[T.Presidential Dem]  start_year  baseline  \n",
       "1                    0.127171    0.000116 -0.029280  \n",
       "2                    0.121862    0.000053  0.143039  \n",
       "3                    0.146234    0.000004  0.297672  \n",
       "4                    0.422617    0.000002  0.376311  \n",
       "5                    0.743913    0.000057  0.362049  "
      ]
     },
     "execution_count": 42,
     "metadata": {},
     "output_type": "execute_result"
    }
   ],
   "source": [
    "#aaf.figsize(12.5, 8)\n",
    "aaf.cumulative_hazards_.head()"
   ]
  },
  {
   "cell_type": "code",
   "execution_count": 47,
   "metadata": {},
   "outputs": [
    {
     "data": {
      "text/plain": [
       "<matplotlib.axes._subplots.AxesSubplot at 0x110a4a9e8>"
      ]
     },
     "execution_count": 47,
     "metadata": {},
     "output_type": "execute_result"
    },
    {
     "data": {
      "image/png": "[encoded data removed]",
      "text/plain": [
       "<matplotlib.figure.Figure at 0x1115887f0>"
      ]
     },
     "metadata": {},
     "output_type": "display_data"
    }
   ],
   "source": [
    "aaf.plot(columns=['regime[T.Presidential Dem]', 'baseline', 'un_continent_name[Europe]'], iloc=slice(1,15), figsize=(25,16))"
   ]
  },
  {
   "cell_type": "code",
   "execution_count": 49,
   "metadata": {},
   "outputs": [
    {
     "name": "stdout",
     "output_type": "stream",
     "text": [
      "Harper's unique data point      un_continent_name[Africa]  un_continent_name[Americas]  \\\n",
      "268                        0.0                          1.0   \n",
      "\n",
      "     un_continent_name[Asia]  un_continent_name[Europe]  \\\n",
      "268                      0.0                        0.0   \n",
      "\n",
      "     un_continent_name[Oceania]  regime[T.Military Dict]  regime[T.Mixed Dem]  \\\n",
      "268                         0.0                      0.0                  0.0   \n",
      "\n",
      "     regime[T.Monarchy]  regime[T.Parliamentary Dem]  \\\n",
      "268                 0.0                          1.0   \n",
      "\n",
      "     regime[T.Presidential Dem]  start_year  T  E  \n",
      "268                         0.0      2006.0  3  0  \n"
     ]
    }
   ],
   "source": [
    "ix = (data['ctryname'] == 'Canada') & (data['start_year'] == 2006)\n",
    "harper = X.loc[ix]\n",
    "print(\"Harper's unique data point\", harper)"
   ]
  },
  {
   "cell_type": "code",
   "execution_count": 50,
   "metadata": {},
   "outputs": [
    {
     "data": {
      "image/png": "[encoded data removed]",
      "text/plain": [
       "<matplotlib.figure.Figure at 0x110a301d0>"
      ]
     },
     "metadata": {},
     "output_type": "display_data"
    }
   ],
   "source": [
    "ax = plt.subplot(2,1,1)\n",
    "\n",
    "aaf.predict_cumulative_hazard(harper).plot(ax=ax)\n",
    "ax = plt.subplot(2,1,2)\n",
    "\n",
    "aaf.predict_survival_function(harper).plot(ax=ax);"
   ]
  },
  {
   "cell_type": "code",
   "execution_count": null,
   "metadata": {
    "collapsed": true
   },
   "outputs": [],
   "source": []
  }
 ],
 "metadata": {
  "kernelspec": {
   "display_name": "Python 3",
   "language": "python",
   "name": "python3"
  },
  "language_info": {
   "codemirror_mode": {
    "name": "ipython",
    "version": 3
   },
   "file_extension": ".py",
   "mimetype": "text/x-python",
   "name": "python",
   "nbconvert_exporter": "python",
   "pygments_lexer": "ipython3",
   "version": "3.6.2"
  }
 },
 "nbformat": 4,
 "nbformat_minor": 2
}
