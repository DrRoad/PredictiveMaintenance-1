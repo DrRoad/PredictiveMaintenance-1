{
 "cells": [
  {
   "cell_type": "markdown",
   "metadata": {
    "_cell_guid": "069a3f08-25c4-4c07-99e2-a1104fe8a112",
    "_uuid": "549d6ad61b6b37a08341a8528bfdb3a0c30a7b1e"
   },
   "source": [
    "Predicting Gas Turbine propulsion plant's decay state coefficient, two outputs:  GT Compressor decay state coefficient and GT Turbine decay state coefficient.Data Analysis, Data visualization, Feature Selection, about 10 Machine Learning models/estimators. Multilayer Perceptron(Deep Learning/Artificial Neural Network). Dataset splitted into training and testing data in order to avoid overfitting."
   ]
  },
  {
   "cell_type": "code",
   "execution_count": 19,
   "metadata": {
    "_cell_guid": "874f84ec-d4ca-4941-8e07-c8ebf5f91eaa",
    "_uuid": "995d5b8d39d7aefe30b1d3e8c9df82d15900dd66"
   },
   "outputs": [],
   "source": [
    "import numpy\n",
    "import pandas\n",
    "\n",
    "from sklearn.feature_selection import RFE\n",
    "from sklearn.ensemble import ExtraTreesRegressor\n",
    "\n",
    "\n",
    "import matplotlib.pyplot as plt\n",
    "\n",
    "\n",
    "from sklearn.model_selection import train_test_split\n",
    "from sklearn.linear_model import LinearRegression\n",
    "from sklearn.linear_model import Ridge\n",
    "from sklearn.ensemble import BaggingRegressor\n",
    "from sklearn.ensemble import RandomForestRegressor\n",
    "from sklearn.ensemble import ExtraTreesRegressor\n",
    "from sklearn.tree import DecisionTreeRegressor\n",
    "from sklearn.neighbors import KNeighborsRegressor\n",
    "from sklearn.metrics import explained_variance_score\n",
    "#from sklearn.metrics import mean_squared_error\n",
    "from sklearn.metrics import mean_absolute_error\n",
    "\n",
    "\n",
    "from keras.models import Sequential\n",
    "from keras.layers import Dense\n",
    "from keras.layers import Dropout\n",
    "from keras.utils import np_utils\n",
    "from keras.constraints import maxnorm\n",
    "\n",
    "# fix random seed for reproducibility\n",
    "seed = 7\n",
    "numpy.random.seed(seed)"
   ]
  },
  {
   "cell_type": "code",
   "execution_count": 3,
   "metadata": {
    "_cell_guid": "050d20e6-d582-4f99-985f-c2c2eeae7409",
    "_uuid": "62ab61e2706b58abd5051a12492d4b4cd103ff8b",
    "collapsed": true
   },
   "outputs": [],
   "source": [
    "# load dataset\n",
    "dataframe = pandas.read_csv(\"Data/navalplantmaintenance.csv\", delim_whitespace=True, header=None)\n",
    "\n",
    "dataframe = dataframe.round(3)\n",
    "\n",
    "# Assign names to Columns\n",
    "dataframe.columns = ['lever_position', 'ship_speed', 'gt_shaft', 'gt_rate', 'gg_rate', 'sp_torque', 'pp_torque', 'hpt_temp', 'gt_c_i_temp', 'gt_c_o_temp', 'hpt_pressure', 'gt_c_i_pressure', 'gt_c_o_pressure', 'gt_exhaust_pressure', 'turbine_inj_control', 'fuel_flow', 'gt_c_decay',  'gt_t_decay']\n",
    "\n",
    "dataframe = dataframe.dropna()\n",
    "\n",
    "dataframe = dataframe.drop('gt_c_i_temp', axis=1)"
   ]
  },
  {
   "cell_type": "code",
   "execution_count": 4,
   "metadata": {
    "_cell_guid": "096a06b9-2ffd-4716-98aa-e8e349be805c",
    "_uuid": "81dd119a8851a69f835a9d517d3564620a7b2a25"
   },
   "outputs": [
    {
     "name": "stdout",
     "output_type": "stream",
     "text": [
      "Head:    lever_position  ship_speed   gt_shaft   gt_rate   gg_rate  sp_torque  \\\n",
      "0           1.138         3.0    289.964  1349.489  6677.380      7.584   \n",
      "1           2.088         6.0   6960.180  1376.166  6828.469     28.204   \n",
      "2           3.144         9.0   8379.229  1386.757  7111.811     60.358   \n",
      "3           4.161        12.0  14724.395  1547.465  7792.630    113.774   \n",
      "4           5.140        15.0  21636.432  1924.313  8494.777    175.306   \n",
      "\n",
      "   pp_torque  hpt_temp  gt_c_o_temp  hpt_pressure  gt_c_i_pressure  \\\n",
      "0      7.584   464.006      550.563         1.096            0.998   \n",
      "1     28.204   635.401      581.658         1.331            0.998   \n",
      "2     60.358   606.002      587.587         1.389            0.998   \n",
      "3    113.774   661.471      613.851         1.658            0.998   \n",
      "4    175.306   731.494      645.642         2.078            0.998   \n",
      "\n",
      "   gt_c_o_pressure  gt_exhaust_pressure  turbine_inj_control  fuel_flow  \\\n",
      "0            5.947                1.019                7.137      0.082   \n",
      "1            7.282                1.019               10.655      0.287   \n",
      "2            7.574                1.020               13.086      0.259   \n",
      "3            9.007                1.022               18.109      0.358   \n",
      "4           11.197                1.026               26.373      0.522   \n",
      "\n",
      "   gt_c_decay  gt_t_decay  \n",
      "0        0.95       0.975  \n",
      "1        0.95       0.975  \n",
      "2        0.95       0.975  \n",
      "3        0.95       0.975  \n",
      "4        0.95       0.975  \n"
     ]
    }
   ],
   "source": [
    "print(\"Head:\", dataframe.head())\n"
   ]
  },
  {
   "cell_type": "code",
   "execution_count": 5,
   "metadata": {
    "_cell_guid": "9806c82d-6c51-4f2c-a750-643cd8b1df78",
    "_uuid": "f7c34c8f5dac97ea18074090a609d9bd4f38bb62"
   },
   "outputs": [
    {
     "name": "stdout",
     "output_type": "stream",
     "text": [
      "Statistical Description:        lever_position    ship_speed      gt_shaft       gt_rate       gg_rate  \\\n",
      "count    11934.000000  11934.000000  11934.000000  11934.000000  11934.000000   \n",
      "mean         5.166667     15.000000  27247.498685   2136.289256   8200.947312   \n",
      "std          2.626388      7.746291  22148.613155    774.083881   1091.315507   \n",
      "min          1.138000      3.000000    253.547000   1307.675000   6589.002000   \n",
      "25%          3.144000      9.000000   8375.883750   1386.758000   7058.324000   \n",
      "50%          5.140000     15.000000  21630.659000   1924.326000   8482.081500   \n",
      "75%          7.148000     21.000000  39001.426750   2678.079000   9132.606000   \n",
      "max          9.300000     27.000000  72784.872000   3560.741000   9797.103000   \n",
      "\n",
      "          sp_torque     pp_torque      hpt_temp   gt_c_o_temp  hpt_pressure  \\\n",
      "count  11934.000000  11934.000000  11934.000000  11934.000000  11934.000000   \n",
      "mean     227.335768    227.335768    735.495446    646.215331      2.352963   \n",
      "std      200.495889    200.495889    173.680552     72.675882      1.084770   \n",
      "min        5.304000      5.304000    442.364000    540.442000      1.093000   \n",
      "25%       60.317000     60.317000    589.872750    578.092250      1.389000   \n",
      "50%      175.268000    175.268000    706.038000    637.141500      2.083000   \n",
      "75%      332.364750    332.364750    834.066250    693.924500      2.981000   \n",
      "max      645.249000    645.249000   1115.797000    789.094000      4.560000   \n",
      "\n",
      "       gt_c_i_pressure  gt_c_o_pressure  gt_exhaust_pressure  \\\n",
      "count     1.193400e+04     11934.000000         11934.000000   \n",
      "mean      9.980000e-01        12.297123             1.029474   \n",
      "std       2.533635e-13         5.337448             0.010390   \n",
      "min       9.980000e-01         5.828000             1.019000   \n",
      "25%       9.980000e-01         7.447250             1.020000   \n",
      "50%       9.980000e-01        11.092000             1.026000   \n",
      "75%       9.980000e-01        15.658000             1.036000   \n",
      "max       9.980000e-01        23.140000             1.052000   \n",
      "\n",
      "       turbine_inj_control     fuel_flow   gt_c_decay  gt_t_decay  \n",
      "count         11934.000000  11934.000000  11934.00000  11934.0000  \n",
      "mean             33.641261      0.662440      0.97500      0.9875  \n",
      "std              25.841363      0.507132      0.01472      0.0075  \n",
      "min               0.000000      0.068000      0.95000      0.9750  \n",
      "25%              13.677500      0.246000      0.96200      0.9810  \n",
      "50%              25.276500      0.496000      0.97500      0.9875  \n",
      "75%              44.552500      0.882000      0.98800      0.9940  \n",
      "max              92.556000      1.832000      1.00000      1.0000  \n"
     ]
    }
   ],
   "source": [
    "\n",
    "print(\"Statistical Description:\", dataframe.describe())\n"
   ]
  },
  {
   "cell_type": "code",
   "execution_count": 6,
   "metadata": {
    "_cell_guid": "5770953c-6472-4ebf-a6fb-54274f08fc3d",
    "_uuid": "45023cdc3461c594479b1634b260ae6485765e52"
   },
   "outputs": [
    {
     "name": "stdout",
     "output_type": "stream",
     "text": [
      "Shape: (11934, 17)\n"
     ]
    }
   ],
   "source": [
    "\n",
    "print(\"Shape:\", dataframe.shape)\n"
   ]
  },
  {
   "cell_type": "code",
   "execution_count": 7,
   "metadata": {
    "_cell_guid": "0ad8c0e1-b2d9-4f56-ab32-f28a3216f120",
    "_uuid": "1387139ce43e1279b6ac0669abb428f9ab8ca2bb"
   },
   "outputs": [
    {
     "name": "stdout",
     "output_type": "stream",
     "text": [
      "Data Types: lever_position         float64\n",
      "ship_speed             float64\n",
      "gt_shaft               float64\n",
      "gt_rate                float64\n",
      "gg_rate                float64\n",
      "sp_torque              float64\n",
      "pp_torque              float64\n",
      "hpt_temp               float64\n",
      "gt_c_o_temp            float64\n",
      "hpt_pressure           float64\n",
      "gt_c_i_pressure        float64\n",
      "gt_c_o_pressure        float64\n",
      "gt_exhaust_pressure    float64\n",
      "turbine_inj_control    float64\n",
      "fuel_flow              float64\n",
      "gt_c_decay             float64\n",
      "gt_t_decay             float64\n",
      "dtype: object\n"
     ]
    }
   ],
   "source": [
    "\n",
    "print(\"Data Types:\", dataframe.dtypes)"
   ]
  },
  {
   "cell_type": "code",
   "execution_count": 8,
   "metadata": {
    "_cell_guid": "a7dceb6d-b053-4e92-8fea-0887a9c05ba8",
    "_uuid": "60227d176a791f897d07f8405c241f2c049bac11",
    "collapsed": true
   },
   "outputs": [],
   "source": [
    "dataset = dataframe.values\n",
    "\n",
    "\n",
    "X = dataset[:,0:15]\n",
    "Y = dataset[:,15]\n",
    "Y2 = dataset[:,16] "
   ]
  },
  {
   "cell_type": "code",
   "execution_count": 9,
   "metadata": {
    "_cell_guid": "f5c6cf2b-5f90-46ce-a1b6-cd02ee44c8f6",
    "_uuid": "95bda8c9c9ae53f0c8aa9b22c98cf0f8d6d1a5f0"
   },
   "outputs": [
    {
     "name": "stdout",
     "output_type": "stream",
     "text": [
      "Number of Features:  3\n",
      "Selected Features:  [False False False False  True False False False  True False False False\n",
      "  True False False]\n",
      "Feature Ranking:  [11 12  3  4  1  6  8  5  1  2 13 10  1  9  7]\n"
     ]
    }
   ],
   "source": [
    "#Feature Selection\n",
    "model = ExtraTreesRegressor()\n",
    "rfe = RFE(model, 3)\n",
    "fit = rfe.fit(X, Y)\n",
    "\n",
    "print(\"Number of Features: \", fit.n_features_)\n",
    "print(\"Selected Features: \", fit.support_)\n",
    "print(\"Feature Ranking: \", fit.ranking_) "
   ]
  },
  {
   "cell_type": "markdown",
   "metadata": {
    "_cell_guid": "d3368507-8f29-43ec-8cc3-bd4affebbc92",
    "_uuid": "783b544fcb355a40a9fb293d2651834a57a8a831"
   },
   "source": [
    "'gg_rate'(Gas Generator rate of revolutions (GGn) [rpm]), 'gt_c_o_pressure'(GT Compressor outlet air pressure (P2) [bar]) and 'gt_exhaust_pressure'(Gas Turbine exhaust gas pressure (Pexh) [bar]) were top 3 selected features/feature combination for predicting 'gt_c_decay'(GT Compressor decay state coefficient)"
   ]
  },
  {
   "cell_type": "code",
   "execution_count": 10,
   "metadata": {
    "_cell_guid": "11948dea-6cf8-4305-819a-f82991dee81f",
    "_uuid": "26eaf9771af7c2d64201ed60765fc79a9113bbd6"
   },
   "outputs": [
    {
     "name": "stdout",
     "output_type": "stream",
     "text": [
      "Number of Features:  3\n",
      "Selected Features:  [False False False False  True False False False False False False  True\n",
      " False  True False]\n",
      "Feature Ranking:  [11 12  3  4  1 10  9  5  8  6 13  1  7  1  2]\n"
     ]
    }
   ],
   "source": [
    "#Feature Selection\n",
    "model = ExtraTreesRegressor()\n",
    "rfe = RFE(model, 3)\n",
    "fit = rfe.fit(X, Y2)\n",
    "\n",
    "print(\"Number of Features: \", fit.n_features_)\n",
    "print(\"Selected Features: \", fit.support_)\n",
    "print(\"Feature Ranking: \", fit.ranking_) "
   ]
  },
  {
   "cell_type": "markdown",
   "metadata": {
    "_cell_guid": "dfd48629-e7a8-4a96-aeed-834e34616b43",
    "_uuid": "35ed0e8d08c8de73bd4251bb9b91300df8c0af42"
   },
   "source": [
    " 'gg_rate', 'gt_c_o_pressure' and 'turbine_inj_control'(Turbine Injecton Control (TIC) [%]) were top 3 selected features/feature combination for predicting 'gt_t_decay'(GT Turbine decay state coefficient)"
   ]
  },
  {
   "cell_type": "markdown",
   "metadata": {
    "_cell_guid": "2bc50852-4a98-4445-88f9-e3fe4d3a5420",
    "_uuid": "93585c3906d627c34521e899eb85baa15bea7aa4"
   },
   "source": [
    "**Both ouutouts, 'gt_c_decay' and 'gt_t_decay' have the same 2 feature selections, except for their last ones.**"
   ]
  },
  {
   "cell_type": "code",
   "execution_count": 44,
   "metadata": {
    "_cell_guid": "8c157e88-2918-4d37-8f05-942c50d9739e",
    "_uuid": "1a7d8fcca1bd73655afb15f60c85e7784ccfcc7e"
   },
   "outputs": [
    {
     "data": {
      "image/png": "[encoded data removed]",
      "text/plain": [
       "<matplotlib.figure.Figure at 0x125052048>"
      ]
     },
     "metadata": {},
     "output_type": "display_data"
    }
   ],
   "source": [
    "dataframe.hist()\n",
    "plt.show()"
   ]
  },
  {
   "cell_type": "code",
   "execution_count": 12,
   "metadata": {
    "_cell_guid": "394f38f9-fdc8-492d-8c50-c42b504c4db0",
    "_uuid": "4b53b67550fc0dde0b91f4e0dcdd924e4935aa6d"
   },
   "outputs": [
    {
     "name": "stdout",
     "output_type": "stream",
     "text": [
      "LiR: 0.849488 (0.004444)\n",
      "Ridge: 0.831309 (0.004916)\n",
      "Bag_Re: 0.995211 (0.000591)\n",
      "RandomForest: 0.995156 (0.000577)\n",
      "ExtraTreesRegressor: 0.997587 (0.000450)\n",
      "KNN: 0.931132 (0.001436)\n",
      "CART: 0.990549 (0.000928)\n"
     ]
    }
   ],
   "source": [
    "# Split Data to Train and Test\n",
    "X_Train, X_Test, Y_Train, Y_Test = train_test_split(X, Y, test_size=0.2)\n",
    "\n",
    "num_instances = len(X)\n",
    "\n",
    "models = []\n",
    "models.append(('LiR', LinearRegression()))\n",
    "models.append(('Ridge', Ridge()))\n",
    "models.append(('Bag_Re', BaggingRegressor()))\n",
    "models.append(('RandomForest', RandomForestRegressor()))\n",
    "models.append(('ExtraTreesRegressor', ExtraTreesRegressor()))\n",
    "models.append(('KNN', KNeighborsRegressor()))\n",
    "models.append(('CART', DecisionTreeRegressor()))\n",
    "\n",
    "# Evaluations\n",
    "results = []\n",
    "names = []\n",
    "scoring = []\n",
    "\n",
    "for name, model in models:\n",
    "    # Fit the model\n",
    "    model.fit(X_Train, Y_Train)\n",
    "    \n",
    "    predictions = model.predict(X_Test)\n",
    "    \n",
    "    # Evaluate the model\n",
    "    score = explained_variance_score(Y_Test, predictions)\n",
    "    mae = mean_absolute_error(predictions, Y_Test)\n",
    "    # print(\"%s: %.2f%%\" % (model.metrics_names[1], scores[1]*100))\n",
    "    results.append(mae)\n",
    "    names.append(name)\n",
    "    \n",
    "    msg = \"%s: %f (%f)\" % (name, score, mae)\n",
    "    print(msg)"
   ]
  },
  {
   "cell_type": "markdown",
   "metadata": {
    "_cell_guid": "8bf0e464-390f-428a-a693-42b38d0bd548",
    "_uuid": "ac0b55160cc6328bb39fd7830388641677a0324d"
   },
   "source": [
    "'Extra Trees Regressor' and 'Random Forest Regressor' are the best estimators/models for for predicting 'gt_c_decay'."
   ]
  },
  {
   "cell_type": "code",
   "execution_count": 13,
   "metadata": {
    "_cell_guid": "0d2c43ee-beae-4b31-9a52-c63a80cbb21d",
    "_uuid": "4d7a4349d9d4cd16a5c09337c9209848a219801c"
   },
   "outputs": [
    {
     "name": "stdout",
     "output_type": "stream",
     "text": [
      "LiR: 0.912420 (0.001685)\n",
      "Ridge: 0.865333 (0.002093)\n",
      "Bag_Re: 0.988204 (0.000430)\n",
      "RandomForest: 0.988253 (0.000426)\n",
      "ExtraTreesRegressor: 0.992790 (0.000305)\n",
      "KNN: 0.874829 (0.001142)\n",
      "CART: 0.973549 (0.000559)\n"
     ]
    }
   ],
   "source": [
    "# Split Data to Train and Test\n",
    "X_Train, X_Test, Y_Train, Y_Test = train_test_split(X, Y2, test_size=0.2)\n",
    "\n",
    "num_instances = len(X)\n",
    "\n",
    "models = []\n",
    "models.append(('LiR', LinearRegression()))\n",
    "models.append(('Ridge', Ridge()))\n",
    "models.append(('Bag_Re', BaggingRegressor()))\n",
    "models.append(('RandomForest', RandomForestRegressor()))\n",
    "models.append(('ExtraTreesRegressor', ExtraTreesRegressor()))\n",
    "models.append(('KNN', KNeighborsRegressor()))\n",
    "models.append(('CART', DecisionTreeRegressor()))\n",
    "\n",
    "# Evaluations\n",
    "results = []\n",
    "names = []\n",
    "scoring = []\n",
    "\n",
    "for name, model in models:\n",
    "    # Fit the model\n",
    "    model.fit(X_Train, Y_Train)\n",
    "    \n",
    "    predictions = model.predict(X_Test)\n",
    "    \n",
    "    # Evaluate the model\n",
    "    score = explained_variance_score(Y_Test, predictions)\n",
    "    mae = mean_absolute_error(predictions, Y_Test)\n",
    "    # print(\"%s: %.2f%%\" % (model.metrics_names[1], scores[1]*100))\n",
    "    results.append(mae)\n",
    "    names.append(name)\n",
    "    \n",
    "    msg = \"%s: %f (%f)\" % (name, score, mae)\n",
    "    print(msg)"
   ]
  },
  {
   "cell_type": "markdown",
   "metadata": {
    "_cell_guid": "1546d8b4-9a6d-4c97-a92c-7a7ba1151934",
    "_uuid": "122f91ce9d6ebd2e0161e653308e011670ec03b5"
   },
   "source": [
    "And 'Extra Trees Regressor' and 'Bagging Regressor' are the best estimators/models for for predicting 'gt_t_decay'.\n",
    "they can be further explored and their hyperparameters tuned"
   ]
  },
  {
   "cell_type": "code",
   "execution_count": 35,
   "metadata": {},
   "outputs": [
    {
     "data": {
      "text/plain": [
       "array([  2.08800000e+00,   6.00000000e+00,   6.96018000e+03,\n",
       "         1.37616600e+03,   6.82846900e+03,   2.82040000e+01,\n",
       "         2.82040000e+01,   6.35401000e+02,   5.81658000e+02,\n",
       "         1.33100000e+00,   7.28200000e+00,   1.01900000e+00,\n",
       "         1.06550000e+01,   2.87000000e-01])"
      ]
     },
     "execution_count": 35,
     "metadata": {},
     "output_type": "execute_result"
    }
   ],
   "source": [
    "X = numpy.delete(X,10,1)\n",
    "X.shape\n",
    "X[1,:]"
   ]
  },
  {
   "cell_type": "code",
   "execution_count": 38,
   "metadata": {
    "_uuid": "422e4df49b2a2d5428cec5a150ea2e4e91465759"
   },
   "outputs": [
    {
     "name": "stdout",
     "output_type": "stream",
     "text": [
      "[  5.17199246e+00   1.50161619e+01   2.72914986e+04   2.13787787e+03\n",
      "   8.20376274e+03   2.27712474e+02   2.27712474e+02   7.36006944e+02\n",
      "   6.46422552e+02   2.35514522e+00   1.23080770e+01   1.02949084e+00\n",
      "   3.37425666e+01   6.63634742e-01]\n",
      "[  2.62647758e+00   7.74569481e+00   2.21528848e+04   7.74272615e+02\n",
      "   1.09072242e+03   2.00542335e+02   2.00542335e+02   1.73710858e+02\n",
      "   7.27100132e+01   1.08492640e+00   5.33824227e+00   1.03900326e-02\n",
      "   2.58270315e+01   5.07325353e-01]\n",
      "[[ 1.15516217  1.15984923  1.0696557   1.22611999  1.00444461  1.04805065\n",
      "   1.04805065  1.12131768  1.17208682  1.1464877   1.20468924  1.10771148\n",
      "   1.0628567   1.07892353]\n",
      " [-1.17419333 -1.16402235 -0.95039914 -0.96560934 -1.27421029 -0.98200449\n",
      "  -0.98200449 -0.90343773 -1.05858256 -0.9578025  -0.98517016 -0.91345638\n",
      "  -1.29657048 -0.86066021]\n",
      " [-0.38492331 -0.38939849 -0.56730081 -0.76254004 -0.37965272 -0.56803704\n",
      "  -0.56803704 -0.44764009 -0.46167716 -0.64257374 -0.62119267 -0.72096421\n",
      "  -0.6108161  -0.60638551]\n",
      " [ 0.38188315  0.38522537  0.1129343   0.2188869   0.57284993  0.09265637\n",
      "   0.09265637  0.2322253   0.31882057  0.13535921  0.16277325  0.0490045\n",
      "   0.02197052  0.03028679]\n",
      " [-0.01218075 -0.00208656 -0.25567833 -0.27582645  0.24380104 -0.26160798\n",
      "  -0.26160798 -0.14924769 -0.12931578 -0.24715521 -0.21019596 -0.33597985\n",
      "  -0.32503025 -0.31860174]\n",
      " [-0.77213393 -0.77671042 -0.8537008  -0.97009484 -0.98374042 -0.83447953\n",
      "  -0.83447953 -0.87177592 -0.88735443 -0.89143855 -0.91155042 -0.91345638\n",
      "  -0.83318002 -0.83109338]\n",
      " [ 0.38188315  0.38522537  0.11280235  0.21905221  0.5643143   0.0923522\n",
      "   0.0923522   0.27972377  0.33975304  0.13812438  0.18356661  0.0490045\n",
      "   0.04330476  0.05196913]]\n"
     ]
    },
    {
     "name": "stderr",
     "output_type": "stream",
     "text": [
      "/Users/jsiska3/anaconda/lib/python3.6/site-packages/ipykernel/__main__.py:19: UserWarning: Update your `Dense` call to the Keras 2 API: `Dense(6, input_dim=14, activation=\"relu\", kernel_initializer=\"uniform\")`\n",
      "/Users/jsiska3/anaconda/lib/python3.6/site-packages/ipykernel/__main__.py:21: UserWarning: Update your `Dense` call to the Keras 2 API: `Dense(4, activation=\"relu\", kernel_constraint=<keras.con..., kernel_initializer=\"uniform\")`\n",
      "/Users/jsiska3/anaconda/lib/python3.6/site-packages/ipykernel/__main__.py:23: UserWarning: Update your `Dense` call to the Keras 2 API: `Dense(2, activation=\"relu\", kernel_initializer=\"uniform\")`\n"
     ]
    },
    {
     "name": "stdout",
     "output_type": "stream",
     "text": [
      "Epoch 1/50\n",
      "8353/8353 [==============================] - 2s - loss: 0.1883     \n",
      "Epoch 2/50\n",
      "8353/8353 [==============================] - 1s - loss: 0.0143     \n",
      "Epoch 3/50\n",
      "8353/8353 [==============================] - 1s - loss: 0.0130     \n",
      "Epoch 4/50\n",
      "8353/8353 [==============================] - 1s - loss: 0.0130     \n",
      "Epoch 5/50\n",
      "8353/8353 [==============================] - 1s - loss: 0.0130     \n",
      "Epoch 6/50\n",
      "8353/8353 [==============================] - 1s - loss: 0.0130     \n",
      "Epoch 7/50\n",
      "8353/8353 [==============================] - 1s - loss: 0.0130     \n",
      "Epoch 8/50\n",
      "8353/8353 [==============================] - 1s - loss: 0.0130     \n",
      "Epoch 9/50\n",
      "8353/8353 [==============================] - 1s - loss: 0.0129     \n",
      "Epoch 10/50\n",
      "8353/8353 [==============================] - 1s - loss: 0.0121     \n",
      "Epoch 11/50\n",
      "8353/8353 [==============================] - 1s - loss: 0.0109     \n",
      "Epoch 12/50\n",
      "8353/8353 [==============================] - 1s - loss: 0.0103     \n",
      "Epoch 13/50\n",
      "8353/8353 [==============================] - 1s - loss: 0.0099     \n",
      "Epoch 14/50\n",
      "8353/8353 [==============================] - 1s - loss: 0.0097     \n",
      "Epoch 15/50\n",
      "8353/8353 [==============================] - 1s - loss: 0.0094     \n",
      "Epoch 16/50\n",
      "8353/8353 [==============================] - 1s - loss: 0.0092     \n",
      "Epoch 17/50\n",
      "8353/8353 [==============================] - 1s - loss: 0.0092     \n",
      "Epoch 18/50\n",
      "8353/8353 [==============================] - 1s - loss: 0.0089     \n",
      "Epoch 19/50\n",
      "8353/8353 [==============================] - 1s - loss: 0.0086     \n",
      "Epoch 20/50\n",
      "8353/8353 [==============================] - 1s - loss: 0.0084     \n",
      "Epoch 21/50\n",
      "8353/8353 [==============================] - 1s - loss: 0.0081     \n",
      "Epoch 22/50\n",
      "8353/8353 [==============================] - 1s - loss: 0.0080     \n",
      "Epoch 23/50\n",
      "8353/8353 [==============================] - 1s - loss: 0.0079     \n",
      "Epoch 24/50\n",
      "8353/8353 [==============================] - 1s - loss: 0.0078     \n",
      "Epoch 25/50\n",
      "8353/8353 [==============================] - 1s - loss: 0.0075     \n",
      "Epoch 26/50\n",
      "8353/8353 [==============================] - 1s - loss: 0.0076     \n",
      "Epoch 27/50\n",
      "8353/8353 [==============================] - 1s - loss: 0.0074     \n",
      "Epoch 28/50\n",
      "8353/8353 [==============================] - 1s - loss: 0.0074     \n",
      "Epoch 29/50\n",
      "8353/8353 [==============================] - 1s - loss: 0.0074     \n",
      "Epoch 30/50\n",
      "8353/8353 [==============================] - 1s - loss: 0.0073     \n",
      "Epoch 31/50\n",
      "8353/8353 [==============================] - 1s - loss: 0.0072     \n",
      "Epoch 32/50\n",
      "8353/8353 [==============================] - 1s - loss: 0.0071     \n",
      "Epoch 33/50\n",
      "8353/8353 [==============================] - 1s - loss: 0.0070     \n",
      "Epoch 34/50\n",
      "8353/8353 [==============================] - 1s - loss: 0.0071     \n",
      "Epoch 35/50\n",
      "8353/8353 [==============================] - 1s - loss: 0.0070     \n",
      "Epoch 36/50\n",
      "8353/8353 [==============================] - 1s - loss: 0.0071     \n",
      "Epoch 37/50\n",
      "8353/8353 [==============================] - 1s - loss: 0.0071     \n",
      "Epoch 38/50\n",
      "8353/8353 [==============================] - 2s - loss: 0.0072     \n",
      "Epoch 39/50\n",
      "8353/8353 [==============================] - 1s - loss: 0.0070     \n",
      "Epoch 40/50\n",
      "8353/8353 [==============================] - 1s - loss: 0.0069     \n",
      "Epoch 41/50\n",
      "8353/8353 [==============================] - 1s - loss: 0.0069     \n",
      "Epoch 42/50\n",
      "8353/8353 [==============================] - 1s - loss: 0.0069     \n",
      "Epoch 43/50\n",
      "8353/8353 [==============================] - 1s - loss: 0.0070     \n",
      "Epoch 44/50\n",
      "8353/8353 [==============================] - 1s - loss: 0.0070     \n",
      "Epoch 45/50\n",
      "8353/8353 [==============================] - 1s - loss: 0.0069     \n",
      "Epoch 46/50\n",
      "8353/8353 [==============================] - 1s - loss: 0.0069     \n",
      "Epoch 47/50\n",
      "8353/8353 [==============================] - 1s - loss: 0.0068     \n",
      "Epoch 48/50\n",
      "8353/8353 [==============================] - 1s - loss: 0.0069     \n",
      "Epoch 49/50\n",
      "8353/8353 [==============================] - 1s - loss: 0.0071     \n",
      "Epoch 50/50\n",
      "8353/8353 [==============================] - 1s - loss: 0.0068     \n",
      "2816/3581 [======================>.......] - ETA: 0s /n\n",
      "mae =  0.00420472647557\n",
      "score: 99.995795%\n"
     ]
    }
   ],
   "source": [
    "# Split Data to Train and Test\n",
    "X_Train, X_Test, Y_Train, Y_Test = train_test_split(X, Y, test_size=0.3)\n",
    "\n",
    "# Normalize data\n",
    "mean = X_Train.mean(axis=0)\n",
    "print(mean)\n",
    "X_Train -= mean\n",
    "std = X_Train.std(axis=0)\n",
    "print(std)\n",
    "X_Train /= std\n",
    "print(X_Train[0:7,:])\n",
    "\n",
    "X_Test -= mean\n",
    "X_Test /= std\n",
    "\n",
    "\n",
    "# create model\n",
    "model = Sequential()\n",
    "model.add(Dense(6, input_dim=14, init='uniform', activation='relu'))\n",
    "model.add(Dropout(0.2))\n",
    "model.add(Dense(4, init='uniform', activation='relu', kernel_constraint=maxnorm(3)))\n",
    "model.add(Dropout(0.2))\n",
    "model.add(Dense(2, init='uniform', activation='relu'))\n",
    "model.add(Dense(1))\n",
    "\n",
    "# Compile model\n",
    "model.compile(loss='mean_absolute_error', optimizer='adam')\n",
    "\n",
    "# Fit the model\n",
    "model.fit(X_Train, Y_Train, epochs=50, batch_size=10)\n",
    "\n",
    "# Evaluate the model\n",
    "scores = model.evaluate(X_Test, Y_Test)\n",
    "print('/n')\n",
    "print(\"mae = \", scores)\n",
    "print(\"score: %.6f%%\" % (100-scores))"
   ]
  },
  {
   "cell_type": "code",
   "execution_count": 15,
   "metadata": {},
   "outputs": [
    {
     "data": {
      "text/plain": [
       "0.012881989371061692"
      ]
     },
     "execution_count": 15,
     "metadata": {},
     "output_type": "execute_result"
    }
   ],
   "source": [
    "scores"
   ]
  },
  {
   "cell_type": "code",
   "execution_count": null,
   "metadata": {
    "_uuid": "509854fe292ce76ea33c4025e62fe649cecb3fa7"
   },
   "outputs": [
    {
     "name": "stderr",
     "output_type": "stream",
     "text": [
      "/Users/jsiska3/anaconda/lib/python3.6/site-packages/ipykernel/__main__.py:9: UserWarning: Update your `Dense` call to the Keras 2 API: `Dense(6, input_dim=15, activation=\"relu\", kernel_initializer=\"uniform\")`\n",
      "/Users/jsiska3/anaconda/lib/python3.6/site-packages/ipykernel/__main__.py:11: UserWarning: Update your `Dense` call to the Keras 2 API: `Dense(4, activation=\"relu\", kernel_constraint=<keras.con..., kernel_initializer=\"uniform\")`\n",
      "/Users/jsiska3/anaconda/lib/python3.6/site-packages/ipykernel/__main__.py:13: UserWarning: Update your `Dense` call to the Keras 2 API: `Dense(2, activation=\"relu\", kernel_initializer=\"uniform\")`\n",
      "/Users/jsiska3/anaconda/lib/python3.6/site-packages/ipykernel/__main__.py:14: UserWarning: Update your `Dense` call to the Keras 2 API: `Dense(1, activation=\"relu\", kernel_initializer=\"uniform\")`\n"
     ]
    },
    {
     "name": "stdout",
     "output_type": "stream",
     "text": [
      "Epoch 1/100\n",
      "8353/8353 [==============================] - 2s - loss: 0.1661     \n",
      "Epoch 2/100\n",
      "8353/8353 [==============================] - 1s - loss: 0.0589     \n",
      "Epoch 3/100\n",
      "8353/8353 [==============================] - 1s - loss: 0.0288     \n",
      "Epoch 4/100\n",
      "8353/8353 [==============================] - 1s - loss: 0.0095     \n",
      "Epoch 5/100\n",
      "8353/8353 [==============================] - 1s - loss: 0.0074     \n",
      "Epoch 6/100\n",
      "8353/8353 [==============================] - 1s - loss: 0.0068     \n",
      "Epoch 7/100\n",
      "8353/8353 [==============================] - 1s - loss: 0.0068     \n",
      "Epoch 8/100\n",
      "8353/8353 [==============================] - 1s - loss: 0.0067     \n",
      "Epoch 9/100\n",
      "8353/8353 [==============================] - 1s - loss: 0.0067     \n",
      "Epoch 10/100\n",
      "8353/8353 [==============================] - 1s - loss: 0.0067     \n",
      "Epoch 11/100\n",
      "8353/8353 [==============================] - 1s - loss: 0.0068     \n",
      "Epoch 12/100\n",
      "8353/8353 [==============================] - 1s - loss: 0.0067     \n",
      "Epoch 13/100\n",
      "8353/8353 [==============================] - 1s - loss: 0.0067     \n",
      "Epoch 14/100\n",
      "8353/8353 [==============================] - 1s - loss: 0.0067     \n",
      "Epoch 15/100\n",
      "8353/8353 [==============================] - 1s - loss: 0.0067     \n",
      "Epoch 16/100\n",
      "8353/8353 [==============================] - 2s - loss: 0.0067     \n",
      "Epoch 17/100\n",
      "8353/8353 [==============================] - 2s - loss: 0.0067     \n",
      "Epoch 18/100\n",
      "8353/8353 [==============================] - 1s - loss: 0.0067     \n",
      "Epoch 19/100\n",
      "8353/8353 [==============================] - 1s - loss: 0.0068     \n",
      "Epoch 20/100\n",
      "8353/8353 [==============================] - 1s - loss: 0.0068     \n",
      "Epoch 21/100\n",
      "8353/8353 [==============================] - 1s - loss: 0.0067     \n",
      "Epoch 22/100\n",
      "8353/8353 [==============================] - 1s - loss: 0.0068     \n",
      "Epoch 23/100\n",
      "8353/8353 [==============================] - 1s - loss: 0.0067     \n",
      "Epoch 24/100\n",
      "8353/8353 [==============================] - 1s - loss: 0.0068     \n",
      "Epoch 25/100\n",
      "8353/8353 [==============================] - 1s - loss: 0.0067     \n",
      "Epoch 26/100\n",
      "8353/8353 [==============================] - 1s - loss: 0.0067     \n",
      "Epoch 27/100\n",
      "8353/8353 [==============================] - 1s - loss: 0.0067     \n",
      "Epoch 28/100\n",
      "8353/8353 [==============================] - 2s - loss: 0.0068     \n",
      "Epoch 29/100\n",
      "8353/8353 [==============================] - 2s - loss: 0.0067     \n",
      "Epoch 30/100\n",
      "8353/8353 [==============================] - 1s - loss: 0.0067     \n",
      "Epoch 31/100\n",
      "8353/8353 [==============================] - 1s - loss: 0.0068     \n",
      "Epoch 32/100\n",
      "8353/8353 [==============================] - 1s - loss: 0.0067     \n",
      "Epoch 33/100\n",
      "8353/8353 [==============================] - 1s - loss: 0.0067     \n",
      "Epoch 34/100\n",
      "8353/8353 [==============================] - 1s - loss: 0.0067     \n",
      "Epoch 35/100\n",
      "8353/8353 [==============================] - 1s - loss: 0.0067     \n",
      "Epoch 36/100\n",
      "8353/8353 [==============================] - 1s - loss: 0.0067     \n",
      "Epoch 37/100\n",
      "8353/8353 [==============================] - 1s - loss: 0.0067     \n",
      "Epoch 38/100\n",
      "8353/8353 [==============================] - 1s - loss: 0.0067     \n",
      "Epoch 39/100\n",
      "8353/8353 [==============================] - 1s - loss: 0.0068     \n",
      "Epoch 40/100\n",
      "8353/8353 [==============================] - 1s - loss: 0.0067     \n",
      "Epoch 41/100\n",
      "8353/8353 [==============================] - 1s - loss: 0.0068     \n",
      "Epoch 42/100\n",
      "8353/8353 [==============================] - 1s - loss: 0.0067     \n",
      "Epoch 43/100\n",
      "8353/8353 [==============================] - 1s - loss: 0.0067     \n",
      "Epoch 44/100\n",
      "8353/8353 [==============================] - 1s - loss: 0.0067     \n",
      "Epoch 45/100\n",
      "8353/8353 [==============================] - 1s - loss: 0.0067     \n",
      "Epoch 46/100\n",
      "8353/8353 [==============================] - 1s - loss: 0.0068     \n",
      "Epoch 47/100\n",
      "8353/8353 [==============================] - 1s - loss: 0.0067     \n",
      "Epoch 48/100\n",
      "8353/8353 [==============================] - 1s - loss: 0.0067     \n",
      "Epoch 49/100\n",
      "8353/8353 [==============================] - 1s - loss: 0.0067     \n",
      "Epoch 50/100\n",
      "8353/8353 [==============================] - 1s - loss: 0.0067     \n",
      "Epoch 51/100\n",
      "8353/8353 [==============================] - 1s - loss: 0.0067     \n",
      "Epoch 52/100\n",
      "8353/8353 [==============================] - 1s - loss: 0.0067     \n",
      "Epoch 53/100\n",
      "8353/8353 [==============================] - 1s - loss: 0.0067     \n",
      "Epoch 54/100\n",
      "8353/8353 [==============================] - 2s - loss: 0.0068     \n",
      "Epoch 55/100\n",
      "8353/8353 [==============================] - 1s - loss: 0.0068     \n",
      "Epoch 56/100\n",
      "8353/8353 [==============================] - 1s - loss: 0.0067     \n",
      "Epoch 57/100\n",
      "8353/8353 [==============================] - 1s - loss: 0.0067     \n",
      "Epoch 58/100\n",
      "8353/8353 [==============================] - 1s - loss: 0.0067     \n",
      "Epoch 59/100\n",
      "8353/8353 [==============================] - 1s - loss: 0.0067     \n",
      "Epoch 60/100\n",
      "8353/8353 [==============================] - 1s - loss: 0.0067     \n",
      "Epoch 61/100\n",
      "8353/8353 [==============================] - 1s - loss: 0.0067     \n",
      "Epoch 62/100\n",
      "8353/8353 [==============================] - 1s - loss: 0.0067     \n",
      "Epoch 63/100\n",
      "8353/8353 [==============================] - 1s - loss: 0.0067     \n",
      "Epoch 64/100\n",
      "8353/8353 [==============================] - 1s - loss: 0.0067     \n",
      "Epoch 65/100\n",
      "8353/8353 [==============================] - 1s - loss: 0.0067     \n",
      "Epoch 66/100\n",
      "8353/8353 [==============================] - 1s - loss: 0.0067     \n",
      "Epoch 67/100\n",
      "8353/8353 [==============================] - 1s - loss: 0.0068     \n",
      "Epoch 68/100\n",
      "8353/8353 [==============================] - 1s - loss: 0.0067     \n",
      "Epoch 69/100\n",
      "8353/8353 [==============================] - 1s - loss: 0.0067     \n",
      "Epoch 70/100\n",
      "8353/8353 [==============================] - 1s - loss: 0.0067     \n",
      "Epoch 71/100\n",
      "8353/8353 [==============================] - 1s - loss: 0.0067     \n",
      "Epoch 72/100\n",
      "8353/8353 [==============================] - 1s - loss: 0.0068     \n",
      "Epoch 73/100\n",
      "8353/8353 [==============================] - 1s - loss: 0.0067     \n",
      "Epoch 74/100\n",
      "8353/8353 [==============================] - 1s - loss: 0.0067     \n",
      "Epoch 75/100\n",
      "8353/8353 [==============================] - 1s - loss: 0.0067     \n",
      "Epoch 76/100\n",
      "8353/8353 [==============================] - 1s - loss: 0.0067     \n",
      "Epoch 77/100\n",
      "8353/8353 [==============================] - 1s - loss: 0.0067     \n",
      "Epoch 78/100\n",
      "8353/8353 [==============================] - 1s - loss: 0.0067     \n",
      "Epoch 79/100\n",
      "8353/8353 [==============================] - 1s - loss: 0.0067     \n",
      "Epoch 80/100\n",
      "8353/8353 [==============================] - 1s - loss: 0.0067     \n",
      "Epoch 81/100\n",
      "8353/8353 [==============================] - 1s - loss: 0.0067     \n",
      "Epoch 82/100\n",
      "8353/8353 [==============================] - 1s - loss: 0.0067     \n",
      "Epoch 83/100\n",
      "8353/8353 [==============================] - 1s - loss: 0.0067     \n",
      "Epoch 84/100\n",
      "8353/8353 [==============================] - 1s - loss: 0.0067     \n",
      "Epoch 85/100\n",
      "8353/8353 [==============================] - 1s - loss: 0.0067     \n",
      "Epoch 86/100\n",
      "8353/8353 [==============================] - 1s - loss: 0.0068     \n",
      "Epoch 87/100\n",
      "8353/8353 [==============================] - 1s - loss: 0.0067     \n",
      "Epoch 88/100\n",
      "8353/8353 [==============================] - 1s - loss: 0.0066     \n",
      "Epoch 89/100\n",
      "8353/8353 [==============================] - 1s - loss: 0.0067     \n",
      "Epoch 90/100\n",
      "8353/8353 [==============================] - 1s - loss: 0.0067     \n",
      "Epoch 91/100\n",
      "8353/8353 [==============================] - 1s - loss: 0.0067     \n",
      "Epoch 92/100\n",
      "8353/8353 [==============================] - 1s - loss: 0.0067     \n",
      "Epoch 93/100\n",
      "8353/8353 [==============================] - 1s - loss: 0.0067     \n",
      "Epoch 94/100\n",
      "8353/8353 [==============================] - 1s - loss: 0.0067     \n",
      "Epoch 95/100\n",
      "8353/8353 [==============================] - 1s - loss: 0.0067     \n",
      "Epoch 96/100\n",
      "5270/8353 [=================>............] - ETA: 0s - loss: 0.0067"
     ]
    }
   ],
   "source": [
    "# Split Data to Train and Test\n",
    "X_Train, X_Test, Y_Train, Y_Test = train_test_split(X, Y2, test_size=0.3)\n",
    "\n",
    "\n",
    "\n",
    "\n",
    "# create model\n",
    "model = Sequential()\n",
    "model.add(Dense(6, input_dim=15, init='uniform', activation='relu'))\n",
    "model.add(Dropout(0.2))\n",
    "model.add(Dense(4, init='uniform', activation='relu', kernel_constraint=maxnorm(3)))\n",
    "model.add(Dropout(0.2))\n",
    "model.add(Dense(2, init='uniform', activation='relu'))\n",
    "model.add(Dense(1, init='uniform', activation='relu'))\n",
    "\n",
    "# Compile model\n",
    "model.compile(loss='mean_absolute_error', optimizer='adam')\n",
    "\n",
    "# Fit the model\n",
    "model.fit(X_Train, Y_Train, epochs=100, batch_size=10)\n",
    "\n",
    "# Evaluate the model\n",
    "scores = model.evaluate(X_Test, Y_Test)\n",
    "print(\"score: %.2f%%\" % (100-scores))"
   ]
  },
  {
   "cell_type": "markdown",
   "metadata": {
    "_uuid": "a6c75a09dfd75f31e9737caee4109a3518408e18"
   },
   "source": []
  }
 ],
 "metadata": {
  "kernelspec": {
   "display_name": "Python 3",
   "language": "python",
   "name": "python3"
  },
  "language_info": {
   "codemirror_mode": {
    "name": "ipython",
    "version": 3
   },
   "file_extension": ".py",
   "mimetype": "text/x-python",
   "name": "python",
   "nbconvert_exporter": "python",
   "pygments_lexer": "ipython3",
   "version": "3.6.2"
  }
 },
 "nbformat": 4,
 "nbformat_minor": 1
}
