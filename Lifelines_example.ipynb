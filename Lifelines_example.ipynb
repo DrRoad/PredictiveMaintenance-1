{
 "cells": [
  {
   "cell_type": "code",
   "execution_count": 2,
   "metadata": {
    "collapsed": true
   },
   "outputs": [],
   "source": [
    "import pandas as pd\n",
    "import lifelines\n",
    "\n",
    "data = lifelines.datasets.load_dd()"
   ]
  },
  {
   "cell_type": "code",
   "execution_count": 2,
   "metadata": {},
   "outputs": [
    {
     "data": {
      "text/html": [
       "<div>\n",
       "<style>\n",
       "    .dataframe thead tr:only-child th {\n",
       "        text-align: right;\n",
       "    }\n",
       "\n",
       "    .dataframe thead th {\n",
       "        text-align: left;\n",
       "    }\n",
       "\n",
       "    .dataframe tbody tr th {\n",
       "        vertical-align: top;\n",
       "    }\n",
       "</style>\n",
       "<table border=\"1\" class=\"dataframe\">\n",
       "  <thead>\n",
       "    <tr style=\"text-align: right;\">\n",
       "      <th></th>\n",
       "      <th>ctryname</th>\n",
       "      <th>cowcode2</th>\n",
       "      <th>politycode</th>\n",
       "      <th>un_region_name</th>\n",
       "      <th>un_continent_name</th>\n",
       "      <th>ehead</th>\n",
       "      <th>leaderspellreg</th>\n",
       "      <th>democracy</th>\n",
       "      <th>regime</th>\n",
       "      <th>start_year</th>\n",
       "      <th>duration</th>\n",
       "      <th>observed</th>\n",
       "    </tr>\n",
       "  </thead>\n",
       "  <tbody>\n",
       "    <tr>\n",
       "      <th>1706</th>\n",
       "      <td>United Kingdom</td>\n",
       "      <td>200</td>\n",
       "      <td>200.0</td>\n",
       "      <td>Northern Europe</td>\n",
       "      <td>Europe</td>\n",
       "      <td>Edward Heath</td>\n",
       "      <td>Edward Heath.United Kingdom.1970.1973.Parliame...</td>\n",
       "      <td>Democracy</td>\n",
       "      <td>Parliamentary Dem</td>\n",
       "      <td>1970</td>\n",
       "      <td>4</td>\n",
       "      <td>1</td>\n",
       "    </tr>\n",
       "    <tr>\n",
       "      <th>615</th>\n",
       "      <td>Greece</td>\n",
       "      <td>350</td>\n",
       "      <td>350.0</td>\n",
       "      <td>Southern Europe</td>\n",
       "      <td>Europe</td>\n",
       "      <td>Ioannis Paraskevopoulos</td>\n",
       "      <td>Ioannis Paraskevopoulos.Greece.1966.1966.Parli...</td>\n",
       "      <td>Democracy</td>\n",
       "      <td>Parliamentary Dem</td>\n",
       "      <td>1966</td>\n",
       "      <td>1</td>\n",
       "      <td>1</td>\n",
       "    </tr>\n",
       "    <tr>\n",
       "      <th>654</th>\n",
       "      <td>Guinea</td>\n",
       "      <td>438</td>\n",
       "      <td>438.0</td>\n",
       "      <td>Western Africa</td>\n",
       "      <td>Africa</td>\n",
       "      <td>Moussa Dadis Camara</td>\n",
       "      <td>Moussa Dadis Camara.Guinea.2008.2008.Military ...</td>\n",
       "      <td>Non-democracy</td>\n",
       "      <td>Military Dict</td>\n",
       "      <td>2008</td>\n",
       "      <td>1</td>\n",
       "      <td>0</td>\n",
       "    </tr>\n",
       "    <tr>\n",
       "      <th>132</th>\n",
       "      <td>Belgium</td>\n",
       "      <td>211</td>\n",
       "      <td>211.0</td>\n",
       "      <td>Western Europe</td>\n",
       "      <td>Europe</td>\n",
       "      <td>Jean-Luc Dehaene</td>\n",
       "      <td>Jean-Luc Dehaene.Belgium.1992.1998.Parliamenta...</td>\n",
       "      <td>Democracy</td>\n",
       "      <td>Parliamentary Dem</td>\n",
       "      <td>1992</td>\n",
       "      <td>7</td>\n",
       "      <td>1</td>\n",
       "    </tr>\n",
       "    <tr>\n",
       "      <th>1281</th>\n",
       "      <td>Poland</td>\n",
       "      <td>290</td>\n",
       "      <td>290.0</td>\n",
       "      <td>Eastern Europe</td>\n",
       "      <td>Europe</td>\n",
       "      <td>Jozef Oleksy</td>\n",
       "      <td>Jozef Oleksy.Poland.1995.1995.Mixed Dem</td>\n",
       "      <td>Democracy</td>\n",
       "      <td>Mixed Dem</td>\n",
       "      <td>1995</td>\n",
       "      <td>1</td>\n",
       "      <td>1</td>\n",
       "    </tr>\n",
       "    <tr>\n",
       "      <th>1210</th>\n",
       "      <td>Palau</td>\n",
       "      <td>986</td>\n",
       "      <td>986.0</td>\n",
       "      <td>Micronesia</td>\n",
       "      <td>Oceania</td>\n",
       "      <td>Kuniwo Nakamura</td>\n",
       "      <td>Kuniwo Nakamura.Palau.1994.2000.Presidential Dem</td>\n",
       "      <td>Democracy</td>\n",
       "      <td>Presidential Dem</td>\n",
       "      <td>1994</td>\n",
       "      <td>7</td>\n",
       "      <td>1</td>\n",
       "    </tr>\n",
       "  </tbody>\n",
       "</table>\n",
       "</div>"
      ],
      "text/plain": [
       "            ctryname  cowcode2  politycode   un_region_name un_continent_name  \\\n",
       "1706  United Kingdom       200       200.0  Northern Europe            Europe   \n",
       "615           Greece       350       350.0  Southern Europe            Europe   \n",
       "654           Guinea       438       438.0   Western Africa            Africa   \n",
       "132          Belgium       211       211.0   Western Europe            Europe   \n",
       "1281          Poland       290       290.0   Eastern Europe            Europe   \n",
       "1210           Palau       986       986.0       Micronesia           Oceania   \n",
       "\n",
       "                        ehead  \\\n",
       "1706             Edward Heath   \n",
       "615   Ioannis Paraskevopoulos   \n",
       "654       Moussa Dadis Camara   \n",
       "132          Jean-Luc Dehaene   \n",
       "1281             Jozef Oleksy   \n",
       "1210          Kuniwo Nakamura   \n",
       "\n",
       "                                         leaderspellreg      democracy  \\\n",
       "1706  Edward Heath.United Kingdom.1970.1973.Parliame...      Democracy   \n",
       "615   Ioannis Paraskevopoulos.Greece.1966.1966.Parli...      Democracy   \n",
       "654   Moussa Dadis Camara.Guinea.2008.2008.Military ...  Non-democracy   \n",
       "132   Jean-Luc Dehaene.Belgium.1992.1998.Parliamenta...      Democracy   \n",
       "1281            Jozef Oleksy.Poland.1995.1995.Mixed Dem      Democracy   \n",
       "1210   Kuniwo Nakamura.Palau.1994.2000.Presidential Dem      Democracy   \n",
       "\n",
       "                 regime  start_year  duration  observed  \n",
       "1706  Parliamentary Dem        1970         4         1  \n",
       "615   Parliamentary Dem        1966         1         1  \n",
       "654       Military Dict        2008         1         0  \n",
       "132   Parliamentary Dem        1992         7         1  \n",
       "1281          Mixed Dem        1995         1         1  \n",
       "1210   Presidential Dem        1994         7         1  "
      ]
     },
     "execution_count": 2,
     "metadata": {},
     "output_type": "execute_result"
    }
   ],
   "source": [
    "data.sample(6)"
   ]
  },
  {
   "cell_type": "code",
   "execution_count": 5,
   "metadata": {
    "collapsed": true
   },
   "outputs": [],
   "source": [
    "from lifelines import KaplanMeierFitter\n",
    "kmf = KaplanMeierFitter()"
   ]
  },
  {
   "cell_type": "code",
   "execution_count": 6,
   "metadata": {},
   "outputs": [
    {
     "data": {
      "text/plain": [
       "<lifelines.KaplanMeierFitter: fitted with 1808 observations, 340 censored>"
      ]
     },
     "execution_count": 6,
     "metadata": {},
     "output_type": "execute_result"
    }
   ],
   "source": [
    "T = data[\"duration\"]\n",
    "E = data[\"observed\"]\n",
    "\n",
    "kmf.fit(T, event_observed=E)"
   ]
  },
  {
   "cell_type": "code",
   "execution_count": 8,
   "metadata": {
    "collapsed": true
   },
   "outputs": [],
   "source": [
    "import matplotlib.pyplot as plt"
   ]
  },
  {
   "cell_type": "code",
   "execution_count": 12,
   "metadata": {
    "collapsed": true
   },
   "outputs": [],
   "source": [
    "%matplotlib inline"
   ]
  },
  {
   "cell_type": "code",
   "execution_count": 13,
   "metadata": {},
   "outputs": [
    {
     "data": {
      "image/png": "[encoded data removed]",
      "text/plain": [
       "<matplotlib.figure.Figure at 0x110bdd8d0>"
      ]
     },
     "metadata": {},
     "output_type": "display_data"
    }
   ],
   "source": [
    "kmf.survival_function_.plot()\n",
    "plt.title('Survival function of political regimes');"
   ]
  },
  {
   "cell_type": "code",
   "execution_count": 15,
   "metadata": {},
   "outputs": [
    {
     "data": {
      "text/plain": [
       "<matplotlib.axes._subplots.AxesSubplot at 0x110921908>"
      ]
     },
     "execution_count": 15,
     "metadata": {},
     "output_type": "execute_result"
    },
    {
     "data": {
      "image/png": "[encoded data removed]",
      "text/plain": [
       "<matplotlib.figure.Figure at 0x110c2acf8>"
      ]
     },
     "metadata": {},
     "output_type": "display_data"
    }
   ],
   "source": [
    "kmf.plot()"
   ]
  },
  {
   "cell_type": "code",
   "execution_count": 16,
   "metadata": {},
   "outputs": [
    {
     "data": {
      "text/plain": [
       "4.0"
      ]
     },
     "execution_count": 16,
     "metadata": {},
     "output_type": "execute_result"
    }
   ],
   "source": [
    "kmf.median_"
   ]
  },
  {
   "cell_type": "code",
   "execution_count": 19,
   "metadata": {},
   "outputs": [
    {
     "data": {
      "image/png": "[encoded data removed]",
      "text/plain": [
       "<matplotlib.figure.Figure at 0x111483198>"
      ]
     },
     "metadata": {},
     "output_type": "display_data"
    }
   ],
   "source": [
    "ax = plt.subplot(111)\n",
    "\n",
    "dem = (data[\"democracy\"] == \"Democracy\")\n",
    "kmf.fit(T[dem], event_observed=E[dem], label=\"Democratic Regimes\")\n",
    "kmf.plot(ax=ax, ci_force_lines=True)\n",
    "kmf.fit(T[~dem], event_observed=E[~dem], label=\"Non-democratic Regimes\")\n",
    "kmf.plot(ax=ax, ci_force_lines=True)\n",
    "\n",
    "plt.ylim(0, 1);\n",
    "plt.title(\"Lifespans of different global regimes\");"
   ]
  },
  {
   "cell_type": "code",
   "execution_count": 25,
   "metadata": {
    "collapsed": true
   },
   "outputs": [],
   "source": [
    "import numpy as np"
   ]
  },
  {
   "cell_type": "code",
   "execution_count": 26,
   "metadata": {},
   "outputs": [
    {
     "name": "stdout",
     "output_type": "stream",
     "text": [
      "Median survival time of democratic: 3.0\n",
      "Median survival time of non-democratic: 6.0\n"
     ]
    },
    {
     "data": {
      "image/png": "[encoded data removed]",
      "text/plain": [
       "<matplotlib.figure.Figure at 0x1115bd978>"
      ]
     },
     "metadata": {},
     "output_type": "display_data"
    }
   ],
   "source": [
    "ax = plt.subplot(111)\n",
    "\n",
    "t = np.linspace(0, 50, 51)\n",
    "kmf.fit(T[dem], event_observed=E[dem], timeline=t, label=\"Democratic Regimes\")\n",
    "ax = kmf.plot(ax=ax)\n",
    "print(\"Median survival time of democratic:\", kmf.median_)\n",
    "\n",
    "kmf.fit(T[~dem], event_observed=E[~dem], timeline=t, label=\"Non-democratic Regimes\")\n",
    "ax = kmf.plot(ax=ax)\n",
    "print(\"Median survival time of non-democratic:\", kmf.median_)\n",
    "\n",
    "plt.ylim(0,1)\n",
    "plt.title(\"Lifespans of different global regimes\");"
   ]
  },
  {
   "cell_type": "code",
   "execution_count": 27,
   "metadata": {},
   "outputs": [
    {
     "name": "stdout",
     "output_type": "stream",
     "text": [
      "Results\n",
      "   t 0: -1\n",
      "   test: logrank\n",
      "   alpha: 0.99\n",
      "   null distribution: chi squared\n",
      "   df: 1\n",
      "\n",
      "   __ p-value ___|__ test statistic __|____ test result ____|__ is significant __\n",
      "         0.00000 |            260.470 |      Reject Null    |        True       \n"
     ]
    }
   ],
   "source": [
    "from lifelines.statistics import logrank_test\n",
    "\n",
    "results = logrank_test(T[dem], T[~dem], E[dem], E[~dem], alpha=.99)\n",
    "\n",
    "results.print_summary()"
   ]
  },
  {
   "cell_type": "code",
   "execution_count": 32,
   "metadata": {},
   "outputs": [
    {
     "data": {
      "image/png": "[encoded data removed]",
      "text/plain": [
       "<matplotlib.figure.Figure at 0x110a3a898>"
      ]
     },
     "metadata": {},
     "output_type": "display_data"
    }
   ],
   "source": [
    "regime_types = data['regime'].unique()\n",
    "\n",
    "for i,regime_type in enumerate(regime_types):\n",
    "    ax = plt.subplot(2, 3, i+1)\n",
    "    ix = data['regime'] == regime_type\n",
    "    kmf.fit( T[ix], E[ix], label=regime_type)\n",
    "    kmf.plot(ax=ax, legend=False)\n",
    "    plt.title(regime_type)\n",
    "    plt.xlim(0, 50)\n",
    "    if i==0:\n",
    "        plt.ylabel('Frac. in power after $n$ years')\n",
    "plt.tight_layout()"
   ]
  },
  {
   "cell_type": "code",
   "execution_count": 33,
   "metadata": {},
   "outputs": [
    {
     "data": {
      "text/html": [
       "<div>\n",
       "<style>\n",
       "    .dataframe thead tr:only-child th {\n",
       "        text-align: right;\n",
       "    }\n",
       "\n",
       "    .dataframe thead th {\n",
       "        text-align: left;\n",
       "    }\n",
       "\n",
       "    .dataframe tbody tr th {\n",
       "        vertical-align: top;\n",
       "    }\n",
       "</style>\n",
       "<table border=\"1\" class=\"dataframe\">\n",
       "  <thead>\n",
       "    <tr style=\"text-align: right;\">\n",
       "      <th></th>\n",
       "      <th>ctryname</th>\n",
       "      <th>cowcode2</th>\n",
       "      <th>politycode</th>\n",
       "      <th>un_region_name</th>\n",
       "      <th>un_continent_name</th>\n",
       "      <th>ehead</th>\n",
       "      <th>leaderspellreg</th>\n",
       "      <th>democracy</th>\n",
       "      <th>regime</th>\n",
       "      <th>start_year</th>\n",
       "      <th>duration</th>\n",
       "      <th>observed</th>\n",
       "    </tr>\n",
       "  </thead>\n",
       "  <tbody>\n",
       "    <tr>\n",
       "      <th>0</th>\n",
       "      <td>Afghanistan</td>\n",
       "      <td>700</td>\n",
       "      <td>700.0</td>\n",
       "      <td>Southern Asia</td>\n",
       "      <td>Asia</td>\n",
       "      <td>Mohammad Zahir Shah</td>\n",
       "      <td>Mohammad Zahir Shah.Afghanistan.1946.1952.Mona...</td>\n",
       "      <td>Non-democracy</td>\n",
       "      <td>Monarchy</td>\n",
       "      <td>1946</td>\n",
       "      <td>7</td>\n",
       "      <td>1</td>\n",
       "    </tr>\n",
       "    <tr>\n",
       "      <th>1</th>\n",
       "      <td>Afghanistan</td>\n",
       "      <td>700</td>\n",
       "      <td>700.0</td>\n",
       "      <td>Southern Asia</td>\n",
       "      <td>Asia</td>\n",
       "      <td>Sardar Mohammad Daoud</td>\n",
       "      <td>Sardar Mohammad Daoud.Afghanistan.1953.1962.Ci...</td>\n",
       "      <td>Non-democracy</td>\n",
       "      <td>Civilian Dict</td>\n",
       "      <td>1953</td>\n",
       "      <td>10</td>\n",
       "      <td>1</td>\n",
       "    </tr>\n",
       "    <tr>\n",
       "      <th>2</th>\n",
       "      <td>Afghanistan</td>\n",
       "      <td>700</td>\n",
       "      <td>700.0</td>\n",
       "      <td>Southern Asia</td>\n",
       "      <td>Asia</td>\n",
       "      <td>Mohammad Zahir Shah</td>\n",
       "      <td>Mohammad Zahir Shah.Afghanistan.1963.1972.Mona...</td>\n",
       "      <td>Non-democracy</td>\n",
       "      <td>Monarchy</td>\n",
       "      <td>1963</td>\n",
       "      <td>10</td>\n",
       "      <td>1</td>\n",
       "    </tr>\n",
       "    <tr>\n",
       "      <th>3</th>\n",
       "      <td>Afghanistan</td>\n",
       "      <td>700</td>\n",
       "      <td>700.0</td>\n",
       "      <td>Southern Asia</td>\n",
       "      <td>Asia</td>\n",
       "      <td>Sardar Mohammad Daoud</td>\n",
       "      <td>Sardar Mohammad Daoud.Afghanistan.1973.1977.Ci...</td>\n",
       "      <td>Non-democracy</td>\n",
       "      <td>Civilian Dict</td>\n",
       "      <td>1973</td>\n",
       "      <td>5</td>\n",
       "      <td>0</td>\n",
       "    </tr>\n",
       "    <tr>\n",
       "      <th>4</th>\n",
       "      <td>Afghanistan</td>\n",
       "      <td>700</td>\n",
       "      <td>700.0</td>\n",
       "      <td>Southern Asia</td>\n",
       "      <td>Asia</td>\n",
       "      <td>Nur Mohammad Taraki</td>\n",
       "      <td>Nur Mohammad Taraki.Afghanistan.1978.1978.Civi...</td>\n",
       "      <td>Non-democracy</td>\n",
       "      <td>Civilian Dict</td>\n",
       "      <td>1978</td>\n",
       "      <td>1</td>\n",
       "      <td>0</td>\n",
       "    </tr>\n",
       "  </tbody>\n",
       "</table>\n",
       "</div>"
      ],
      "text/plain": [
       "      ctryname  cowcode2  politycode un_region_name un_continent_name  \\\n",
       "0  Afghanistan       700       700.0  Southern Asia              Asia   \n",
       "1  Afghanistan       700       700.0  Southern Asia              Asia   \n",
       "2  Afghanistan       700       700.0  Southern Asia              Asia   \n",
       "3  Afghanistan       700       700.0  Southern Asia              Asia   \n",
       "4  Afghanistan       700       700.0  Southern Asia              Asia   \n",
       "\n",
       "                   ehead                                     leaderspellreg  \\\n",
       "0    Mohammad Zahir Shah  Mohammad Zahir Shah.Afghanistan.1946.1952.Mona...   \n",
       "1  Sardar Mohammad Daoud  Sardar Mohammad Daoud.Afghanistan.1953.1962.Ci...   \n",
       "2    Mohammad Zahir Shah  Mohammad Zahir Shah.Afghanistan.1963.1972.Mona...   \n",
       "3  Sardar Mohammad Daoud  Sardar Mohammad Daoud.Afghanistan.1973.1977.Ci...   \n",
       "4    Nur Mohammad Taraki  Nur Mohammad Taraki.Afghanistan.1978.1978.Civi...   \n",
       "\n",
       "       democracy         regime  start_year  duration  observed  \n",
       "0  Non-democracy       Monarchy        1946         7         1  \n",
       "1  Non-democracy  Civilian Dict        1953        10         1  \n",
       "2  Non-democracy       Monarchy        1963        10         1  \n",
       "3  Non-democracy  Civilian Dict        1973         5         0  \n",
       "4  Non-democracy  Civilian Dict        1978         1         0  "
      ]
     },
     "execution_count": 33,
     "metadata": {},
     "output_type": "execute_result"
    }
   ],
   "source": [
    "from lifelines import AalenAdditiveFitter\n",
    "data.head()"
   ]
  },
  {
   "cell_type": "code",
   "execution_count": 34,
   "metadata": {
    "collapsed": true
   },
   "outputs": [],
   "source": [
    "import patsy\n",
    "X = patsy.dmatrix('un_continent_name + regime + start_year -1', data, return_type='dataframe')"
   ]
  },
  {
   "cell_type": "code",
   "execution_count": 35,
   "metadata": {},
   "outputs": [
    {
     "data": {
      "text/plain": [
       "Index(['un_continent_name[Africa]', 'un_continent_name[Americas]',\n",
       "       'un_continent_name[Asia]', 'un_continent_name[Europe]',\n",
       "       'un_continent_name[Oceania]', 'regime[T.Military Dict]',\n",
       "       'regime[T.Mixed Dem]', 'regime[T.Monarchy]',\n",
       "       'regime[T.Parliamentary Dem]', 'regime[T.Presidential Dem]',\n",
       "       'start_year'],\n",
       "      dtype='object')"
      ]
     },
     "execution_count": 35,
     "metadata": {},
     "output_type": "execute_result"
    }
   ],
   "source": [
    "X.columns"
   ]
  },
  {
   "cell_type": "code",
   "execution_count": 36,
   "metadata": {
    "collapsed": true
   },
   "outputs": [],
   "source": [
    "aaf = AalenAdditiveFitter(coef_penalizer=1.0, fit_intercept=True)"
   ]
  },
  {
   "cell_type": "code",
   "execution_count": 37,
   "metadata": {
    "collapsed": true
   },
   "outputs": [],
   "source": [
    "data = lifelines.datasets.load_dd()\n",
    "\n",
    "X['T'] = data['duration']\n",
    "X['E'] = data['observed']"
   ]
  },
  {
   "cell_type": "code",
   "execution_count": 38,
   "metadata": {},
   "outputs": [
    {
     "name": "stdout",
     "output_type": "stream",
     "text": [
      " [-----------------100%-----------------] 1468 of 1468 complete in 1.1 sec\n"
     ]
    },
    {
     "data": {
      "text/plain": [
       "<lifelines.AalenAdditiveFitter: fitted with 1808 observations, 340 censored>"
      ]
     },
     "execution_count": 38,
     "metadata": {},
     "output_type": "execute_result"
    }
   ],
   "source": [
    "aaf.fit(X, 'T', event_col='E')"
   ]
  },
  {
   "cell_type": "code",
   "execution_count": 42,
   "metadata": {},
   "outputs": [
    {
     "data": {
      "text/html": [
       "<div>\n",
       "<style>\n",
       "    .dataframe thead tr:only-child th {\n",
       "        text-align: right;\n",
       "    }\n",
       "\n",
       "    .dataframe thead th {\n",
       "        text-align: left;\n",
       "    }\n",
       "\n",
       "    .dataframe tbody tr th {\n",
       "        vertical-align: top;\n",
       "    }\n",
       "</style>\n",
       "<table border=\"1\" class=\"dataframe\">\n",
       "  <thead>\n",
       "    <tr style=\"text-align: right;\">\n",
       "      <th></th>\n",
       "      <th>un_continent_name[Africa]</th>\n",
       "      <th>un_continent_name[Americas]</th>\n",
       "      <th>un_continent_name[Asia]</th>\n",
       "      <th>un_continent_name[Europe]</th>\n",
       "      <th>un_continent_name[Oceania]</th>\n",
       "      <th>regime[T.Military Dict]</th>\n",
       "      <th>regime[T.Mixed Dem]</th>\n",
       "      <th>regime[T.Monarchy]</th>\n",
       "      <th>regime[T.Parliamentary Dem]</th>\n",
       "      <th>regime[T.Presidential Dem]</th>\n",
       "      <th>start_year</th>\n",
       "      <th>baseline</th>\n",
       "    </tr>\n",
       "  </thead>\n",
       "  <tbody>\n",
       "    <tr>\n",
       "      <th>1</th>\n",
       "      <td>-0.051595</td>\n",
       "      <td>-0.082406</td>\n",
       "      <td>0.010666</td>\n",
       "      <td>0.154493</td>\n",
       "      <td>-0.060438</td>\n",
       "      <td>0.075333</td>\n",
       "      <td>0.086274</td>\n",
       "      <td>-0.133938</td>\n",
       "      <td>0.048077</td>\n",
       "      <td>0.127171</td>\n",
       "      <td>0.000116</td>\n",
       "      <td>-0.029280</td>\n",
       "    </tr>\n",
       "    <tr>\n",
       "      <th>2</th>\n",
       "      <td>-0.014713</td>\n",
       "      <td>-0.039471</td>\n",
       "      <td>0.095668</td>\n",
       "      <td>0.194251</td>\n",
       "      <td>-0.092696</td>\n",
       "      <td>0.115033</td>\n",
       "      <td>0.358702</td>\n",
       "      <td>-0.226233</td>\n",
       "      <td>0.168783</td>\n",
       "      <td>0.121862</td>\n",
       "      <td>0.000053</td>\n",
       "      <td>0.143039</td>\n",
       "    </tr>\n",
       "    <tr>\n",
       "      <th>3</th>\n",
       "      <td>0.007389</td>\n",
       "      <td>-0.064758</td>\n",
       "      <td>0.115121</td>\n",
       "      <td>0.170549</td>\n",
       "      <td>0.069371</td>\n",
       "      <td>0.161490</td>\n",
       "      <td>0.677347</td>\n",
       "      <td>-0.271183</td>\n",
       "      <td>0.328483</td>\n",
       "      <td>0.146234</td>\n",
       "      <td>0.000004</td>\n",
       "      <td>0.297672</td>\n",
       "    </tr>\n",
       "    <tr>\n",
       "      <th>4</th>\n",
       "      <td>-0.058418</td>\n",
       "      <td>0.011399</td>\n",
       "      <td>0.091784</td>\n",
       "      <td>0.205824</td>\n",
       "      <td>0.125722</td>\n",
       "      <td>0.220028</td>\n",
       "      <td>0.932674</td>\n",
       "      <td>-0.294900</td>\n",
       "      <td>0.365604</td>\n",
       "      <td>0.422617</td>\n",
       "      <td>0.000002</td>\n",
       "      <td>0.376311</td>\n",
       "    </tr>\n",
       "    <tr>\n",
       "      <th>5</th>\n",
       "      <td>-0.099282</td>\n",
       "      <td>0.106641</td>\n",
       "      <td>0.112083</td>\n",
       "      <td>0.150708</td>\n",
       "      <td>0.091900</td>\n",
       "      <td>0.241575</td>\n",
       "      <td>1.123860</td>\n",
       "      <td>-0.391103</td>\n",
       "      <td>0.536185</td>\n",
       "      <td>0.743913</td>\n",
       "      <td>0.000057</td>\n",
       "      <td>0.362049</td>\n",
       "    </tr>\n",
       "  </tbody>\n",
       "</table>\n",
       "</div>"
      ],
      "text/plain": [
       "   un_continent_name[Africa]  un_continent_name[Americas]  \\\n",
       "1                  -0.051595                    -0.082406   \n",
       "2                  -0.014713                    -0.039471   \n",
       "3                   0.007389                    -0.064758   \n",
       "4                  -0.058418                     0.011399   \n",
       "5                  -0.099282                     0.106641   \n",
       "\n",
       "   un_continent_name[Asia]  un_continent_name[Europe]  \\\n",
       "1                 0.010666                   0.154493   \n",
       "2                 0.095668                   0.194251   \n",
       "3                 0.115121                   0.170549   \n",
       "4                 0.091784                   0.205824   \n",
       "5                 0.112083                   0.150708   \n",
       "\n",
       "   un_continent_name[Oceania]  regime[T.Military Dict]  regime[T.Mixed Dem]  \\\n",
       "1                   -0.060438                 0.075333             0.086274   \n",
       "2                   -0.092696                 0.115033             0.358702   \n",
       "3                    0.069371                 0.161490             0.677347   \n",
       "4                    0.125722                 0.220028             0.932674   \n",
       "5                    0.091900                 0.241575             1.123860   \n",
       "\n",
       "   regime[T.Monarchy]  regime[T.Parliamentary Dem]  \\\n",
       "1           -0.133938                     0.048077   \n",
       "2           -0.226233                     0.168783   \n",
       "3           -0.271183                     0.328483   \n",
       "4           -0.294900                     0.365604   \n",
       "5           -0.391103                     0.536185   \n",
       "\n",
       "   regime[T.Presidential Dem]  start_year  baseline  \n",
       "1                    0.127171    0.000116 -0.029280  \n",
       "2                    0.121862    0.000053  0.143039  \n",
       "3                    0.146234    0.000004  0.297672  \n",
       "4                    0.422617    0.000002  0.376311  \n",
       "5                    0.743913    0.000057  0.362049  "
      ]
     },
     "execution_count": 42,
     "metadata": {},
     "output_type": "execute_result"
    }
   ],
   "source": [
    "#aaf.figsize(12.5, 8)\n",
    "aaf.cumulative_hazards_.head()"
   ]
  },
  {
   "cell_type": "code",
   "execution_count": 47,
   "metadata": {},
   "outputs": [
    {
     "data": {
      "text/plain": [
       "<matplotlib.axes._subplots.AxesSubplot at 0x110a4a9e8>"
      ]
     },
     "execution_count": 47,
     "metadata": {},
     "output_type": "execute_result"
    },
    {
     "data": {
      "image/png": "[encoded data removed]",
      "text/plain": [
       "<matplotlib.figure.Figure at 0x1115887f0>"
      ]
     },
     "metadata": {},
     "output_type": "display_data"
    }
   ],
   "source": [
    "aaf.plot(columns=['regime[T.Presidential Dem]', 'baseline', 'un_continent_name[Europe]'], iloc=slice(1,15), figsize=(25,16))"
   ]
  },
  {
   "cell_type": "code",
   "execution_count": 49,
   "metadata": {},
   "outputs": [
    {
     "name": "stdout",
     "output_type": "stream",
     "text": [
      "Harper's unique data point      un_continent_name[Africa]  un_continent_name[Americas]  \\\n",
      "268                        0.0                          1.0   \n",
      "\n",
      "     un_continent_name[Asia]  un_continent_name[Europe]  \\\n",
      "268                      0.0                        0.0   \n",
      "\n",
      "     un_continent_name[Oceania]  regime[T.Military Dict]  regime[T.Mixed Dem]  \\\n",
      "268                         0.0                      0.0                  0.0   \n",
      "\n",
      "     regime[T.Monarchy]  regime[T.Parliamentary Dem]  \\\n",
      "268                 0.0                          1.0   \n",
      "\n",
      "     regime[T.Presidential Dem]  start_year  T  E  \n",
      "268                         0.0      2006.0  3  0  \n"
     ]
    }
   ],
   "source": [
    "ix = (data['ctryname'] == 'Canada') & (data['start_year'] == 2006)\n",
    "harper = X.loc[ix]\n",
    "print(\"Harper's unique data point\", harper)"
   ]
  },
  {
   "cell_type": "code",
   "execution_count": 50,
   "metadata": {},
   "outputs": [
    {
     "data": {
      "image/png": "[encoded data removed]",
      "text/plain": [
       "<matplotlib.figure.Figure at 0x110a301d0>"
      ]
     },
     "metadata": {},
     "output_type": "display_data"
    }
   ],
   "source": [
    "ax = plt.subplot(2,1,1)\n",
    "\n",
    "aaf.predict_cumulative_hazard(harper).plot(ax=ax)\n",
    "ax = plt.subplot(2,1,2)\n",
    "\n",
    "aaf.predict_survival_function(harper).plot(ax=ax);"
   ]
  },
  {
   "cell_type": "code",
   "execution_count": 4,
   "metadata": {},
   "outputs": [
    {
     "name": "stdout",
     "output_type": "stream",
     "text": [
      "      T  E    group\n",
      "0   6.0  1  miR-137\n",
      "1  13.0  1  miR-137\n",
      "2  13.0  1  miR-137\n",
      "3  13.0  1  miR-137\n",
      "4  19.0  1  miR-137\n"
     ]
    }
   ],
   "source": [
    "from lifelines.datasets import load_waltons\n",
    "df = load_waltons() # returns a Pandas DataFrame\n",
    "\n",
    "print(df.head())\n",
    "\"\"\"\n",
    "    T  E    group\n",
    "0   6  1  miR-137\n",
    "1  13  1  miR-137\n",
    "2  13  1  miR-137\n",
    "3  13  1  miR-137\n",
    "4  19  1  miR-137\n",
    "\"\"\"\n",
    "\n",
    "T = df['T']\n",
    "E = df['E']"
   ]
  },
  {
   "cell_type": "code",
   "execution_count": 5,
   "metadata": {},
   "outputs": [
    {
     "data": {
      "text/plain": [
       "<lifelines.KaplanMeierFitter: fitted with 163 observations, 7 censored>"
      ]
     },
     "execution_count": 5,
     "metadata": {},
     "output_type": "execute_result"
    }
   ],
   "source": [
    "from lifelines import KaplanMeierFitter\n",
    "kmf = KaplanMeierFitter()\n",
    "kmf.fit(T, event_observed=E)  # or, more succiently, kmf.fit(T, E)"
   ]
  },
  {
   "cell_type": "code",
   "execution_count": 7,
   "metadata": {
    "collapsed": true
   },
   "outputs": [],
   "source": [
    "%matplotlib inline"
   ]
  },
  {
   "cell_type": "code",
   "execution_count": 8,
   "metadata": {},
   "outputs": [
    {
     "data": {
      "text/plain": [
       "<matplotlib.axes._subplots.AxesSubplot at 0x11a0b1828>"
      ]
     },
     "execution_count": 8,
     "metadata": {},
     "output_type": "execute_result"
    },
    {
     "data": {
      "image/png": "[encoded data removed]",
      "text/plain": [
       "<matplotlib.figure.Figure at 0x11a086c50>"
      ]
     },
     "metadata": {},
     "output_type": "display_data"
    }
   ],
   "source": [
    "kmf.survival_function_\n",
    "kmf.median_\n",
    "kmf.plot()"
   ]
  },
  {
   "cell_type": "code",
   "execution_count": 9,
   "metadata": {},
   "outputs": [
    {
     "data": {
      "text/plain": [
       "<matplotlib.axes._subplots.AxesSubplot at 0x11a0ec400>"
      ]
     },
     "execution_count": 9,
     "metadata": {},
     "output_type": "execute_result"
    },
    {
     "data": {
      "image/png": "[encoded data removed]",
      "text/plain": [
       "<matplotlib.figure.Figure at 0x11a17d7f0>"
      ]
     },
     "metadata": {},
     "output_type": "display_data"
    }
   ],
   "source": [
    "groups = df['group']\n",
    "ix = (groups == 'miR-137')\n",
    "\n",
    "kmf.fit(T[~ix], E[~ix], label='control')\n",
    "ax = kmf.plot()\n",
    "\n",
    "kmf.fit(T[ix], E[ix], label='miR-137')\n",
    "kmf.plot(ax=ax)"
   ]
  },
  {
   "cell_type": "code",
   "execution_count": 10,
   "metadata": {},
   "outputs": [
    {
     "data": {
      "text/plain": [
       "<lifelines.NelsonAalenFitter: fitted with 163 observations, 7 censored>"
      ]
     },
     "execution_count": 10,
     "metadata": {},
     "output_type": "execute_result"
    }
   ],
   "source": [
    "from lifelines import NelsonAalenFitter\n",
    "naf = NelsonAalenFitter()\n",
    "naf.fit(T, event_observed=E)"
   ]
  },
  {
   "cell_type": "code",
   "execution_count": 11,
   "metadata": {},
   "outputs": [
    {
     "data": {
      "text/plain": [
       "<matplotlib.axes._subplots.AxesSubplot at 0x11a2e8c88>"
      ]
     },
     "execution_count": 11,
     "metadata": {},
     "output_type": "execute_result"
    },
    {
     "data": {
      "image/png": "[encoded data removed]",
      "text/plain": [
       "<matplotlib.figure.Figure at 0x11a15ab70>"
      ]
     },
     "metadata": {},
     "output_type": "display_data"
    }
   ],
   "source": [
    "naf.plot()"
   ]
  },
  {
   "cell_type": "code",
   "execution_count": 12,
   "metadata": {},
   "outputs": [
    {
     "data": {
      "text/html": [
       "<div>\n",
       "<style>\n",
       "    .dataframe thead tr:only-child th {\n",
       "        text-align: right;\n",
       "    }\n",
       "\n",
       "    .dataframe thead th {\n",
       "        text-align: left;\n",
       "    }\n",
       "\n",
       "    .dataframe tbody tr th {\n",
       "        vertical-align: top;\n",
       "    }\n",
       "</style>\n",
       "<table border=\"1\" class=\"dataframe\">\n",
       "  <thead>\n",
       "    <tr style=\"text-align: right;\">\n",
       "      <th></th>\n",
       "      <th>var1</th>\n",
       "      <th>var2</th>\n",
       "      <th>var3</th>\n",
       "      <th>T</th>\n",
       "      <th>E</th>\n",
       "    </tr>\n",
       "  </thead>\n",
       "  <tbody>\n",
       "    <tr>\n",
       "      <th>0</th>\n",
       "      <td>0.595170</td>\n",
       "      <td>1.143472</td>\n",
       "      <td>1.571079</td>\n",
       "      <td>14.785479</td>\n",
       "      <td>1</td>\n",
       "    </tr>\n",
       "    <tr>\n",
       "      <th>1</th>\n",
       "      <td>0.209325</td>\n",
       "      <td>0.184677</td>\n",
       "      <td>0.356980</td>\n",
       "      <td>7.336734</td>\n",
       "      <td>1</td>\n",
       "    </tr>\n",
       "    <tr>\n",
       "      <th>2</th>\n",
       "      <td>0.693919</td>\n",
       "      <td>0.071893</td>\n",
       "      <td>0.557960</td>\n",
       "      <td>5.271527</td>\n",
       "      <td>1</td>\n",
       "    </tr>\n",
       "    <tr>\n",
       "      <th>3</th>\n",
       "      <td>0.443804</td>\n",
       "      <td>1.364646</td>\n",
       "      <td>0.374221</td>\n",
       "      <td>11.684168</td>\n",
       "      <td>1</td>\n",
       "    </tr>\n",
       "    <tr>\n",
       "      <th>4</th>\n",
       "      <td>1.613324</td>\n",
       "      <td>0.125566</td>\n",
       "      <td>1.921325</td>\n",
       "      <td>7.637764</td>\n",
       "      <td>1</td>\n",
       "    </tr>\n",
       "  </tbody>\n",
       "</table>\n",
       "</div>"
      ],
      "text/plain": [
       "       var1      var2      var3          T  E\n",
       "0  0.595170  1.143472  1.571079  14.785479  1\n",
       "1  0.209325  0.184677  0.356980   7.336734  1\n",
       "2  0.693919  0.071893  0.557960   5.271527  1\n",
       "3  0.443804  1.364646  0.374221  11.684168  1\n",
       "4  1.613324  0.125566  1.921325   7.637764  1"
      ]
     },
     "execution_count": 12,
     "metadata": {},
     "output_type": "execute_result"
    }
   ],
   "source": [
    "from lifelines.datasets import load_regression_dataset\n",
    "regression_dataset = load_regression_dataset()\n",
    "\n",
    "regression_dataset.head()"
   ]
  },
  {
   "cell_type": "code",
   "execution_count": 13,
   "metadata": {},
   "outputs": [
    {
     "name": "stdout",
     "output_type": "stream",
     "text": [
      "n=200, number of events=189\n",
      "\n",
      "       coef  exp(coef)  se(coef)      z      p  lower 0.95  upper 0.95    \n",
      "var1 0.2214     1.2478    0.0743 2.9807 0.0029      0.0758      0.3670  **\n",
      "var2 0.0508     1.0521    0.0829 0.6129 0.5400     -0.1117      0.2133    \n",
      "var3 0.2187     1.2444    0.0758 2.8851 0.0039      0.0701      0.3672  **\n",
      "---\n",
      "Signif. codes:  0 '***' 0.001 '**' 0.01 '*' 0.05 '.' 0.1 ' ' 1 \n",
      "\n",
      "Concordance = 0.580\n"
     ]
    },
    {
     "data": {
      "text/plain": [
       "<matplotlib.axes._subplots.AxesSubplot at 0x11a34d550>"
      ]
     },
     "execution_count": 13,
     "metadata": {},
     "output_type": "execute_result"
    },
    {
     "data": {
      "image/png": "[encoded data removed]",
      "text/plain": [
       "<matplotlib.figure.Figure at 0x11a40d9e8>"
      ]
     },
     "metadata": {},
     "output_type": "display_data"
    }
   ],
   "source": [
    "from lifelines import CoxPHFitter\n",
    "\n",
    "# Using Cox Proportional Hazards model\n",
    "cph = CoxPHFitter()\n",
    "cph.fit(regression_dataset, 'T', event_col='E')\n",
    "cph.print_summary()\n",
    "\n",
    "\"\"\"\n",
    "n=200, number of events=189\n",
    "\n",
    "       coef  exp(coef)  se(coef)      z      p  lower 0.95  upper 0.95\n",
    "var1 0.2213     1.2477    0.0743 2.9796 0.0029      0.0757      0.3669  **\n",
    "var2 0.0509     1.0522    0.0829 0.6139 0.5393     -0.1116      0.2134\n",
    "var3 0.2186     1.2443    0.0758 2.8836 0.0039      0.0700      0.3672  **\n",
    "---\n",
    "Signif. codes:  0 '***' 0.001 '**' 0.01 '*' 0.05 '.' 0.1 ' ' 1\n",
    "\n",
    "Concordance = 0.580\n",
    "\"\"\"\n",
    "\n",
    "cph.plot()"
   ]
  },
  {
   "cell_type": "code",
   "execution_count": 14,
   "metadata": {},
   "outputs": [
    {
     "name": "stdout",
     "output_type": "stream",
     "text": [
      " [-----------------100%-----------------] 189 of 189 complete in 0.1 sec\n"
     ]
    },
    {
     "data": {
      "text/plain": [
       "<lifelines.AalenAdditiveFitter: fitted with 200 observations, 11 censored>"
      ]
     },
     "execution_count": 14,
     "metadata": {},
     "output_type": "execute_result"
    }
   ],
   "source": [
    "# Using Aalen's Additive model\n",
    "from lifelines import AalenAdditiveFitter\n",
    "aaf = AalenAdditiveFitter(fit_intercept=False)\n",
    "aaf.fit(regression_dataset, 'T', event_col='E')"
   ]
  },
  {
   "cell_type": "code",
   "execution_count": 16,
   "metadata": {},
   "outputs": [
    {
     "data": {
      "text/plain": [
       "<matplotlib.axes._subplots.AxesSubplot at 0x11a325b00>"
      ]
     },
     "execution_count": 16,
     "metadata": {},
     "output_type": "execute_result"
    },
    {
     "data": {
      "image/png": "[encoded data removed]",
      "text/plain": [
       "<matplotlib.figure.Figure at 0x11a305b00>"
      ]
     },
     "metadata": {},
     "output_type": "display_data"
    }
   ],
   "source": [
    "aaf.plot()"
   ]
  },
  {
   "cell_type": "code",
   "execution_count": 17,
   "metadata": {},
   "outputs": [
    {
     "data": {
      "text/html": [
       "<div>\n",
       "<style>\n",
       "    .dataframe thead tr:only-child th {\n",
       "        text-align: right;\n",
       "    }\n",
       "\n",
       "    .dataframe thead th {\n",
       "        text-align: left;\n",
       "    }\n",
       "\n",
       "    .dataframe tbody tr th {\n",
       "        vertical-align: top;\n",
       "    }\n",
       "</style>\n",
       "<table border=\"1\" class=\"dataframe\">\n",
       "  <thead>\n",
       "    <tr style=\"text-align: right;\">\n",
       "      <th></th>\n",
       "      <th></th>\n",
       "      <th>var1</th>\n",
       "      <th>var2</th>\n",
       "      <th>var3</th>\n",
       "    </tr>\n",
       "  </thead>\n",
       "  <tbody>\n",
       "    <tr>\n",
       "      <th rowspan=\"30\" valign=\"top\">upper</th>\n",
       "      <th>2.576258</th>\n",
       "      <td>0.000502</td>\n",
       "      <td>0.000011</td>\n",
       "      <td>0.028394</td>\n",
       "    </tr>\n",
       "    <tr>\n",
       "      <th>2.632263</th>\n",
       "      <td>0.001258</td>\n",
       "      <td>0.002329</td>\n",
       "      <td>0.028060</td>\n",
       "    </tr>\n",
       "    <tr>\n",
       "      <th>3.563356</th>\n",
       "      <td>0.052441</td>\n",
       "      <td>0.004782</td>\n",
       "      <td>0.034177</td>\n",
       "    </tr>\n",
       "    <tr>\n",
       "      <th>3.640364</th>\n",
       "      <td>0.054325</td>\n",
       "      <td>0.007745</td>\n",
       "      <td>0.034498</td>\n",
       "    </tr>\n",
       "    <tr>\n",
       "      <th>4.144414</th>\n",
       "      <td>0.054199</td>\n",
       "      <td>0.011798</td>\n",
       "      <td>0.034531</td>\n",
       "    </tr>\n",
       "    <tr>\n",
       "      <th>4.207421</th>\n",
       "      <td>0.052486</td>\n",
       "      <td>0.016474</td>\n",
       "      <td>0.036517</td>\n",
       "    </tr>\n",
       "    <tr>\n",
       "      <th>4.326433</th>\n",
       "      <td>0.073455</td>\n",
       "      <td>0.017764</td>\n",
       "      <td>0.034307</td>\n",
       "    </tr>\n",
       "    <tr>\n",
       "      <th>4.382438</th>\n",
       "      <td>0.084647</td>\n",
       "      <td>0.015539</td>\n",
       "      <td>0.037425</td>\n",
       "    </tr>\n",
       "    <tr>\n",
       "      <th>4.445445</th>\n",
       "      <td>0.097601</td>\n",
       "      <td>0.016968</td>\n",
       "      <td>0.034423</td>\n",
       "    </tr>\n",
       "    <tr>\n",
       "      <th>4.473447</th>\n",
       "      <td>0.101696</td>\n",
       "      <td>0.016420</td>\n",
       "      <td>0.033894</td>\n",
       "    </tr>\n",
       "    <tr>\n",
       "      <th>4.480448</th>\n",
       "      <td>0.101191</td>\n",
       "      <td>0.015625</td>\n",
       "      <td>0.054429</td>\n",
       "    </tr>\n",
       "    <tr>\n",
       "      <th>4.704470</th>\n",
       "      <td>0.099258</td>\n",
       "      <td>0.023993</td>\n",
       "      <td>0.053524</td>\n",
       "    </tr>\n",
       "    <tr>\n",
       "      <th>4.725473</th>\n",
       "      <td>0.106781</td>\n",
       "      <td>0.023788</td>\n",
       "      <td>0.051717</td>\n",
       "    </tr>\n",
       "    <tr>\n",
       "      <th>4.746475</th>\n",
       "      <td>0.104049</td>\n",
       "      <td>0.023317</td>\n",
       "      <td>0.062403</td>\n",
       "    </tr>\n",
       "    <tr>\n",
       "      <th>4.837484</th>\n",
       "      <td>0.132529</td>\n",
       "      <td>0.022674</td>\n",
       "      <td>0.058084</td>\n",
       "    </tr>\n",
       "    <tr>\n",
       "      <th>4.858486</th>\n",
       "      <td>0.136507</td>\n",
       "      <td>0.036746</td>\n",
       "      <td>0.054688</td>\n",
       "    </tr>\n",
       "    <tr>\n",
       "      <th>4.879488</th>\n",
       "      <td>0.187895</td>\n",
       "      <td>0.034519</td>\n",
       "      <td>0.049006</td>\n",
       "    </tr>\n",
       "    <tr>\n",
       "      <th>4.949495</th>\n",
       "      <td>0.188275</td>\n",
       "      <td>0.034027</td>\n",
       "      <td>0.051492</td>\n",
       "    </tr>\n",
       "    <tr>\n",
       "      <th>5.271527</th>\n",
       "      <td>0.191544</td>\n",
       "      <td>0.032734</td>\n",
       "      <td>0.052594</td>\n",
       "    </tr>\n",
       "    <tr>\n",
       "      <th>5.292529</th>\n",
       "      <td>0.187827</td>\n",
       "      <td>0.029221</td>\n",
       "      <td>0.076437</td>\n",
       "    </tr>\n",
       "    <tr>\n",
       "      <th>5.432543</th>\n",
       "      <td>0.185867</td>\n",
       "      <td>0.031602</td>\n",
       "      <td>0.078097</td>\n",
       "    </tr>\n",
       "    <tr>\n",
       "      <th>5.558556</th>\n",
       "      <td>0.185920</td>\n",
       "      <td>0.049854</td>\n",
       "      <td>0.075782</td>\n",
       "    </tr>\n",
       "    <tr>\n",
       "      <th>5.642564</th>\n",
       "      <td>0.185606</td>\n",
       "      <td>0.048162</td>\n",
       "      <td>0.081519</td>\n",
       "    </tr>\n",
       "    <tr>\n",
       "      <th>5.663566</th>\n",
       "      <td>0.189106</td>\n",
       "      <td>0.063905</td>\n",
       "      <td>0.079948</td>\n",
       "    </tr>\n",
       "    <tr>\n",
       "      <th>5.740574</th>\n",
       "      <td>0.201764</td>\n",
       "      <td>0.065352</td>\n",
       "      <td>0.075870</td>\n",
       "    </tr>\n",
       "    <tr>\n",
       "      <th>5.810581</th>\n",
       "      <td>0.202680</td>\n",
       "      <td>0.095405</td>\n",
       "      <td>0.074308</td>\n",
       "    </tr>\n",
       "    <tr>\n",
       "      <th>5.817582</th>\n",
       "      <td>0.219037</td>\n",
       "      <td>0.094915</td>\n",
       "      <td>0.070593</td>\n",
       "    </tr>\n",
       "    <tr>\n",
       "      <th>6.062606</th>\n",
       "      <td>0.223850</td>\n",
       "      <td>0.094654</td>\n",
       "      <td>0.069698</td>\n",
       "    </tr>\n",
       "    <tr>\n",
       "      <th>6.083608</th>\n",
       "      <td>0.223259</td>\n",
       "      <td>0.095393</td>\n",
       "      <td>0.071886</td>\n",
       "    </tr>\n",
       "    <tr>\n",
       "      <th>6.125613</th>\n",
       "      <td>0.224344</td>\n",
       "      <td>0.098881</td>\n",
       "      <td>0.070008</td>\n",
       "    </tr>\n",
       "    <tr>\n",
       "      <th>...</th>\n",
       "      <th>...</th>\n",
       "      <td>...</td>\n",
       "      <td>...</td>\n",
       "      <td>...</td>\n",
       "    </tr>\n",
       "    <tr>\n",
       "      <th rowspan=\"30\" valign=\"top\">lower</th>\n",
       "      <th>12.657266</th>\n",
       "      <td>0.362304</td>\n",
       "      <td>0.079475</td>\n",
       "      <td>0.467470</td>\n",
       "    </tr>\n",
       "    <tr>\n",
       "      <th>12.678268</th>\n",
       "      <td>0.358419</td>\n",
       "      <td>0.077015</td>\n",
       "      <td>0.486471</td>\n",
       "    </tr>\n",
       "    <tr>\n",
       "      <th>12.769277</th>\n",
       "      <td>0.393298</td>\n",
       "      <td>0.081137</td>\n",
       "      <td>0.518841</td>\n",
       "    </tr>\n",
       "    <tr>\n",
       "      <th>12.797280</th>\n",
       "      <td>0.336936</td>\n",
       "      <td>0.083128</td>\n",
       "      <td>0.586095</td>\n",
       "    </tr>\n",
       "    <tr>\n",
       "      <th>12.825283</th>\n",
       "      <td>0.225429</td>\n",
       "      <td>0.110964</td>\n",
       "      <td>0.660547</td>\n",
       "    </tr>\n",
       "    <tr>\n",
       "      <th>12.874287</th>\n",
       "      <td>0.222645</td>\n",
       "      <td>0.145175</td>\n",
       "      <td>0.619151</td>\n",
       "    </tr>\n",
       "    <tr>\n",
       "      <th>12.923292</th>\n",
       "      <td>0.221089</td>\n",
       "      <td>0.166592</td>\n",
       "      <td>0.614141</td>\n",
       "    </tr>\n",
       "    <tr>\n",
       "      <th>13.056306</th>\n",
       "      <td>0.253155</td>\n",
       "      <td>0.165916</td>\n",
       "      <td>0.607474</td>\n",
       "    </tr>\n",
       "    <tr>\n",
       "      <th>13.182318</th>\n",
       "      <td>0.239632</td>\n",
       "      <td>0.131988</td>\n",
       "      <td>0.694433</td>\n",
       "    </tr>\n",
       "    <tr>\n",
       "      <th>13.217322</th>\n",
       "      <td>0.279942</td>\n",
       "      <td>0.140155</td>\n",
       "      <td>0.668723</td>\n",
       "    </tr>\n",
       "    <tr>\n",
       "      <th>13.287329</th>\n",
       "      <td>0.254123</td>\n",
       "      <td>0.117425</td>\n",
       "      <td>0.768432</td>\n",
       "    </tr>\n",
       "    <tr>\n",
       "      <th>13.329333</th>\n",
       "      <td>0.254464</td>\n",
       "      <td>0.106194</td>\n",
       "      <td>0.832105</td>\n",
       "    </tr>\n",
       "    <tr>\n",
       "      <th>13.812381</th>\n",
       "      <td>0.190406</td>\n",
       "      <td>0.147918</td>\n",
       "      <td>0.814245</td>\n",
       "    </tr>\n",
       "    <tr>\n",
       "      <th>14.162416</th>\n",
       "      <td>0.143153</td>\n",
       "      <td>0.162649</td>\n",
       "      <td>0.881158</td>\n",
       "    </tr>\n",
       "    <tr>\n",
       "      <th>14.183418</th>\n",
       "      <td>0.202937</td>\n",
       "      <td>0.130680</td>\n",
       "      <td>0.916838</td>\n",
       "    </tr>\n",
       "    <tr>\n",
       "      <th>14.246425</th>\n",
       "      <td>0.234651</td>\n",
       "      <td>0.154535</td>\n",
       "      <td>0.918367</td>\n",
       "    </tr>\n",
       "    <tr>\n",
       "      <th>14.302430</th>\n",
       "      <td>0.266119</td>\n",
       "      <td>0.171977</td>\n",
       "      <td>0.959483</td>\n",
       "    </tr>\n",
       "    <tr>\n",
       "      <th>14.407441</th>\n",
       "      <td>0.319090</td>\n",
       "      <td>0.201657</td>\n",
       "      <td>0.886754</td>\n",
       "    </tr>\n",
       "    <tr>\n",
       "      <th>14.484448</th>\n",
       "      <td>0.386620</td>\n",
       "      <td>0.226834</td>\n",
       "      <td>0.791328</td>\n",
       "    </tr>\n",
       "    <tr>\n",
       "      <th>14.680468</th>\n",
       "      <td>0.391145</td>\n",
       "      <td>0.241854</td>\n",
       "      <td>0.786866</td>\n",
       "    </tr>\n",
       "    <tr>\n",
       "      <th>14.785479</th>\n",
       "      <td>0.330874</td>\n",
       "      <td>0.238235</td>\n",
       "      <td>0.902361</td>\n",
       "    </tr>\n",
       "    <tr>\n",
       "      <th>15.723572</th>\n",
       "      <td>0.387001</td>\n",
       "      <td>0.290172</td>\n",
       "      <td>0.720795</td>\n",
       "    </tr>\n",
       "    <tr>\n",
       "      <th>15.884588</th>\n",
       "      <td>0.436931</td>\n",
       "      <td>0.287795</td>\n",
       "      <td>0.611046</td>\n",
       "    </tr>\n",
       "    <tr>\n",
       "      <th>17.095710</th>\n",
       "      <td>0.508944</td>\n",
       "      <td>0.204054</td>\n",
       "      <td>0.707661</td>\n",
       "    </tr>\n",
       "    <tr>\n",
       "      <th>18.131813</th>\n",
       "      <td>0.185252</td>\n",
       "      <td>0.243984</td>\n",
       "      <td>0.384008</td>\n",
       "    </tr>\n",
       "    <tr>\n",
       "      <th>19.370937</th>\n",
       "      <td>0.198935</td>\n",
       "      <td>0.259783</td>\n",
       "      <td>0.449923</td>\n",
       "    </tr>\n",
       "    <tr>\n",
       "      <th>20.666067</th>\n",
       "      <td>0.230153</td>\n",
       "      <td>0.151716</td>\n",
       "      <td>0.620287</td>\n",
       "    </tr>\n",
       "    <tr>\n",
       "      <th>20.981098</th>\n",
       "      <td>-0.033581</td>\n",
       "      <td>0.194239</td>\n",
       "      <td>0.829940</td>\n",
       "    </tr>\n",
       "    <tr>\n",
       "      <th>21.030103</th>\n",
       "      <td>-0.268506</td>\n",
       "      <td>0.280835</td>\n",
       "      <td>0.831180</td>\n",
       "    </tr>\n",
       "    <tr>\n",
       "      <th>21.940194</th>\n",
       "      <td>-0.192067</td>\n",
       "      <td>0.347879</td>\n",
       "      <td>0.880485</td>\n",
       "    </tr>\n",
       "  </tbody>\n",
       "</table>\n",
       "<p>358 rows × 3 columns</p>\n",
       "</div>"
      ],
      "text/plain": [
       "                     var1      var2      var3\n",
       "upper 2.576258   0.000502  0.000011  0.028394\n",
       "      2.632263   0.001258  0.002329  0.028060\n",
       "      3.563356   0.052441  0.004782  0.034177\n",
       "      3.640364   0.054325  0.007745  0.034498\n",
       "      4.144414   0.054199  0.011798  0.034531\n",
       "      4.207421   0.052486  0.016474  0.036517\n",
       "      4.326433   0.073455  0.017764  0.034307\n",
       "      4.382438   0.084647  0.015539  0.037425\n",
       "      4.445445   0.097601  0.016968  0.034423\n",
       "      4.473447   0.101696  0.016420  0.033894\n",
       "      4.480448   0.101191  0.015625  0.054429\n",
       "      4.704470   0.099258  0.023993  0.053524\n",
       "      4.725473   0.106781  0.023788  0.051717\n",
       "      4.746475   0.104049  0.023317  0.062403\n",
       "      4.837484   0.132529  0.022674  0.058084\n",
       "      4.858486   0.136507  0.036746  0.054688\n",
       "      4.879488   0.187895  0.034519  0.049006\n",
       "      4.949495   0.188275  0.034027  0.051492\n",
       "      5.271527   0.191544  0.032734  0.052594\n",
       "      5.292529   0.187827  0.029221  0.076437\n",
       "      5.432543   0.185867  0.031602  0.078097\n",
       "      5.558556   0.185920  0.049854  0.075782\n",
       "      5.642564   0.185606  0.048162  0.081519\n",
       "      5.663566   0.189106  0.063905  0.079948\n",
       "      5.740574   0.201764  0.065352  0.075870\n",
       "      5.810581   0.202680  0.095405  0.074308\n",
       "      5.817582   0.219037  0.094915  0.070593\n",
       "      6.062606   0.223850  0.094654  0.069698\n",
       "      6.083608   0.223259  0.095393  0.071886\n",
       "      6.125613   0.224344  0.098881  0.070008\n",
       "...                   ...       ...       ...\n",
       "lower 12.657266  0.362304  0.079475  0.467470\n",
       "      12.678268  0.358419  0.077015  0.486471\n",
       "      12.769277  0.393298  0.081137  0.518841\n",
       "      12.797280  0.336936  0.083128  0.586095\n",
       "      12.825283  0.225429  0.110964  0.660547\n",
       "      12.874287  0.222645  0.145175  0.619151\n",
       "      12.923292  0.221089  0.166592  0.614141\n",
       "      13.056306  0.253155  0.165916  0.607474\n",
       "      13.182318  0.239632  0.131988  0.694433\n",
       "      13.217322  0.279942  0.140155  0.668723\n",
       "      13.287329  0.254123  0.117425  0.768432\n",
       "      13.329333  0.254464  0.106194  0.832105\n",
       "      13.812381  0.190406  0.147918  0.814245\n",
       "      14.162416  0.143153  0.162649  0.881158\n",
       "      14.183418  0.202937  0.130680  0.916838\n",
       "      14.246425  0.234651  0.154535  0.918367\n",
       "      14.302430  0.266119  0.171977  0.959483\n",
       "      14.407441  0.319090  0.201657  0.886754\n",
       "      14.484448  0.386620  0.226834  0.791328\n",
       "      14.680468  0.391145  0.241854  0.786866\n",
       "      14.785479  0.330874  0.238235  0.902361\n",
       "      15.723572  0.387001  0.290172  0.720795\n",
       "      15.884588  0.436931  0.287795  0.611046\n",
       "      17.095710  0.508944  0.204054  0.707661\n",
       "      18.131813  0.185252  0.243984  0.384008\n",
       "      19.370937  0.198935  0.259783  0.449923\n",
       "      20.666067  0.230153  0.151716  0.620287\n",
       "      20.981098 -0.033581  0.194239  0.829940\n",
       "      21.030103 -0.268506  0.280835  0.831180\n",
       "      21.940194 -0.192067  0.347879  0.880485\n",
       "\n",
       "[358 rows x 3 columns]"
      ]
     },
     "execution_count": 17,
     "metadata": {},
     "output_type": "execute_result"
    }
   ],
   "source": [
    "aaf.confidence_intervals_"
   ]
  },
  {
   "cell_type": "code",
   "execution_count": 21,
   "metadata": {},
   "outputs": [
    {
     "data": {
      "text/plain": [
       "<matplotlib.axes._subplots.AxesSubplot at 0x11aba2320>"
      ]
     },
     "execution_count": 21,
     "metadata": {},
     "output_type": "execute_result"
    },
    {
     "data": {
      "image/png": "[encoded data removed]",
      "text/plain": [
       "<matplotlib.figure.Figure at 0x11a98bb38>"
      ]
     },
     "metadata": {},
     "output_type": "display_data"
    }
   ],
   "source": [
    "X = regression_dataset.drop(['E', 'T'], axis=1)\n",
    "aaf.predict_survival_function(X.iloc[10:13]).plot()  # get the unique survival functions of two subjects"
   ]
  },
  {
   "cell_type": "code",
   "execution_count": 20,
   "metadata": {},
   "outputs": [
    {
     "data": {
      "text/html": [
       "<div>\n",
       "<style>\n",
       "    .dataframe thead tr:only-child th {\n",
       "        text-align: right;\n",
       "    }\n",
       "\n",
       "    .dataframe thead th {\n",
       "        text-align: left;\n",
       "    }\n",
       "\n",
       "    .dataframe tbody tr th {\n",
       "        vertical-align: top;\n",
       "    }\n",
       "</style>\n",
       "<table border=\"1\" class=\"dataframe\">\n",
       "  <thead>\n",
       "    <tr style=\"text-align: right;\">\n",
       "      <th></th>\n",
       "      <th>var1</th>\n",
       "      <th>var2</th>\n",
       "      <th>var3</th>\n",
       "    </tr>\n",
       "  </thead>\n",
       "  <tbody>\n",
       "    <tr>\n",
       "      <th>0</th>\n",
       "      <td>0.595170</td>\n",
       "      <td>1.143472</td>\n",
       "      <td>1.571079</td>\n",
       "    </tr>\n",
       "    <tr>\n",
       "      <th>1</th>\n",
       "      <td>0.209325</td>\n",
       "      <td>0.184677</td>\n",
       "      <td>0.356980</td>\n",
       "    </tr>\n",
       "    <tr>\n",
       "      <th>2</th>\n",
       "      <td>0.693919</td>\n",
       "      <td>0.071893</td>\n",
       "      <td>0.557960</td>\n",
       "    </tr>\n",
       "    <tr>\n",
       "      <th>3</th>\n",
       "      <td>0.443804</td>\n",
       "      <td>1.364646</td>\n",
       "      <td>0.374221</td>\n",
       "    </tr>\n",
       "    <tr>\n",
       "      <th>4</th>\n",
       "      <td>1.613324</td>\n",
       "      <td>0.125566</td>\n",
       "      <td>1.921325</td>\n",
       "    </tr>\n",
       "  </tbody>\n",
       "</table>\n",
       "</div>"
      ],
      "text/plain": [
       "       var1      var2      var3\n",
       "0  0.595170  1.143472  1.571079\n",
       "1  0.209325  0.184677  0.356980\n",
       "2  0.693919  0.071893  0.557960\n",
       "3  0.443804  1.364646  0.374221\n",
       "4  1.613324  0.125566  1.921325"
      ]
     },
     "execution_count": 20,
     "metadata": {},
     "output_type": "execute_result"
    }
   ],
   "source": [
    "X.head()"
   ]
  },
  {
   "cell_type": "code",
   "execution_count": null,
   "metadata": {
    "collapsed": true
   },
   "outputs": [],
   "source": []
  }
 ],
 "metadata": {
  "kernelspec": {
   "display_name": "Python 3",
   "language": "python",
   "name": "python3"
  },
  "language_info": {
   "codemirror_mode": {
    "name": "ipython",
    "version": 3
   },
   "file_extension": ".py",
   "mimetype": "text/x-python",
   "name": "python",
   "nbconvert_exporter": "python",
   "pygments_lexer": "ipython3",
   "version": "3.6.4"
  }
 },
 "nbformat": 4,
 "nbformat_minor": 2
}
