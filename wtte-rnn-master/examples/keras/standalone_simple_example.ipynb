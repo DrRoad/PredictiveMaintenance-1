{
 "cells": [
  {
   "cell_type": "markdown",
   "metadata": {},
   "source": [
    "# WTTE-RNN in keras ( standalone )\n",
    "A template to use with data of varying shape (but fixed sequence length for now).\n",
    "\n",
    "This notebook is written to be as explicit as possible, hope you can follow. Everything is inlined so it has no dependencies with the rest of the repo and I have no plan to keep it updated but PRs are welcome. See See `simple_example.ipynb` for an updated example."
   ]
  },
  {
   "cell_type": "code",
   "execution_count": 1,
   "metadata": {},
   "outputs": [
    {
     "name": "stderr",
     "output_type": "stream",
     "text": [
      "Using TensorFlow backend.\n"
     ]
    },
    {
     "name": "stdout",
     "output_type": "stream",
     "text": [
      "tensorflow version 1.3.0\n"
     ]
    }
   ],
   "source": [
    "%matplotlib inline\n",
    "import numpy as np\n",
    "import matplotlib.pyplot as plt\n",
    "import tensorflow as tf\n",
    "#import theano as T\n",
    "from keras import backend as K\n",
    "\n",
    "from keras.models import Sequential\n",
    "from keras.layers import Dense\n",
    "\n",
    "from keras.layers import LSTM,GRU\n",
    "from keras.layers import Lambda\n",
    "from keras.layers.wrappers import TimeDistributed\n",
    "\n",
    "from keras.optimizers import RMSprop,adam\n",
    "from keras.callbacks import History, TensorBoard\n",
    "\n",
    "print('tensorflow version '+tf.__version__) \n",
    "#print('theano     version '+T.__version__) "
   ]
  },
  {
   "cell_type": "code",
   "execution_count": 2,
   "metadata": {
    "collapsed": true
   },
   "outputs": [],
   "source": [
    "def _keras_unstack_hack(ab):\n",
    "    \"\"\"Implements tf.unstack(y_true_keras, num=2, axis=-1).\n",
    "       Keras-hack adopted to be compatible with theano backend.\n",
    "    \"\"\"\n",
    "    ndim = len(K.int_shape(ab))\n",
    "    if ndim == 0:\n",
    "        print('can not unstack with ndim=0')\n",
    "    else:\n",
    "        a = ab[..., 0]\n",
    "        b = ab[..., 1]\n",
    "    return a, b\n",
    "\n",
    "def weibull_loss_discrete(y_true, y_pred, name=None):\n",
    "    \"\"\"calculates a keras loss op designed for the sequential api.\n",
    "    \n",
    "        Discrete log-likelihood for Weibull hazard function on censored survival data.\n",
    "        For math, see \n",
    "        https://ragulpr.github.io/assets/draft_master_thesis_martinsson_egil_wtte_rnn_2016.pdf (Page 35)\n",
    "        \n",
    "        Args:\n",
    "            y_true: tensor with last dimension having length 2\n",
    "                with y_true[:,...,0] = time to event, \n",
    "                     y_true[:,...,1] = indicator of not censored\n",
    "                \n",
    "            y_pred: tensor with last dimension having length 2 \n",
    "                with y_pred[:,...,0] = alpha, \n",
    "                     y_pred[:,...,1] = beta\n",
    "\n",
    "        Returns:\n",
    "            A positive `Tensor` of same shape as input\n",
    "            \n",
    "    \"\"\"    \n",
    "    y,u = _keras_unstack_hack(y_true)\n",
    "    a,b = _keras_unstack_hack(y_pred)\n",
    "\n",
    "    hazard0 = K.pow((y + 1e-35) / a, b)\n",
    "    hazard1 = K.pow((y + 1.0) / a, b)\n",
    "    \n",
    "    loglikelihoods = u * K.log(K.exp(hazard1 - hazard0) - 1.0) - hazard1\n",
    "    loss = -1 * K.mean(loglikelihoods)\n",
    "    return loss\n",
    "\n",
    "\n",
    "def output_lambda(x, init_alpha=1.0, max_beta_value=5.0, max_alpha_value=None):\n",
    "    \"\"\"Elementwise (Lambda) computation of alpha and regularized beta.\n",
    "\n",
    "        Alpha: \n",
    "        (activation) \n",
    "        Exponential units seems to give faster training than \n",
    "        the original papers softplus units. Makes sense due to logarithmic\n",
    "        effect of change in alpha. \n",
    "        (initialization) \n",
    "        To get faster training and fewer exploding gradients,\n",
    "        initialize alpha to be around its scale when beta is around 1.0,\n",
    "        approx the expected value/mean of training tte. \n",
    "        Because we're lazy we want the correct scale of output built\n",
    "        into the model so initialize implicitly; \n",
    "        multiply assumed exp(0)=1 by scale factor `init_alpha`.\n",
    "\n",
    "        Beta: \n",
    "        (activation) \n",
    "        We want slow changes when beta-> 0 so Softplus made sense in the original \n",
    "        paper but we get similar effect with sigmoid. It also has nice features.\n",
    "        (regularization) Use max_beta_value to implicitly regularize the model\n",
    "        (initialization) Fixed to begin moving slowly around 1.0\n",
    "\n",
    "        Assumes tensorflow backend.\n",
    "\n",
    "        Args:\n",
    "            x: tensor with last dimension having length 2\n",
    "                with x[...,0] = alpha, x[...,1] = beta\n",
    "\n",
    "        Usage:\n",
    "            model.add(Dense(2))\n",
    "            model.add(Lambda(output_lambda, arguments={\"init_alpha\":100., \"max_beta_value\":2.0}))\n",
    "        Returns:\n",
    "            A positive `Tensor` of same shape as input\n",
    "    \"\"\"\n",
    "    a, b = _keras_unstack_hack(x)\n",
    "\n",
    "    # Implicitly initialize alpha:\n",
    "    if max_alpha_value is None:\n",
    "        a = init_alpha * K.exp(a)\n",
    "    else:\n",
    "        a = init_alpha * K.clip(x=a, min_value=K.epsilon(),\n",
    "                                max_value=max_alpha_value)\n",
    "\n",
    "    m = max_beta_value\n",
    "    if m > 1.05:  # some value >>1.0\n",
    "        # shift to start around 1.0\n",
    "        # assuming input is around 0.0\n",
    "        _shift = np.log(m - 1.0)\n",
    "\n",
    "        b = K.sigmoid(b - _shift)\n",
    "    else:\n",
    "        b = K.sigmoid(b)\n",
    "\n",
    "    # Clipped sigmoid : has zero gradient at 0,1\n",
    "    # Reduces the small tendency of instability after long training\n",
    "    # by zeroing gradient.\n",
    "    b = m * K.clip(x=b, min_value=K.epsilon(), max_value=1. - K.epsilon())\n",
    "\n",
    "    x = K.stack([a, b], axis=-1)\n",
    "\n",
    "    return x\n"
   ]
  },
  {
   "cell_type": "markdown",
   "metadata": {},
   "source": [
    "## Generate evenly spaced sequences with noisy measurements"
   ]
  },
  {
   "cell_type": "code",
   "execution_count": 3,
   "metadata": {
    "collapsed": true
   },
   "outputs": [],
   "source": [
    "def get_data(n_timesteps, every_nth,n_repeats,noise_level,n_features,use_censored = True):\n",
    "    def get_equal_spaced(n, every_nth):\n",
    "        # create some simple data of evenly spaced events recurring every_nth step\n",
    "        # Each is on (time,batch)-format\n",
    "        events = np.array([np.array(range(n)) for _ in range(every_nth)])\n",
    "        events = events + np.array(range(every_nth)).reshape(every_nth, 1) + 1\n",
    "\n",
    "        tte_actual = every_nth - 1 - events % every_nth\n",
    "\n",
    "        was_event = (events % every_nth == 0) * 1.0\n",
    "        was_event[:, 0] = 0.0\n",
    "\n",
    "        events = tte_actual == 0\n",
    "\n",
    "        is_censored = (events[:, ::-1].cumsum(1)[:, ::-1] == 0) * 1\n",
    "        tte_censored = is_censored[:, ::-1].cumsum(1)[:, ::-1] * is_censored\n",
    "        tte_censored = tte_censored + (1 - is_censored) * tte_actual\n",
    "\n",
    "        events = np.copy(events.T * 1.0)\n",
    "        tte_actual = np.copy(tte_actual.T * 1.0)\n",
    "        tte_censored = np.copy(tte_censored.T * 1.0)\n",
    "        was_event = np.copy(was_event.T * 1.0)\n",
    "        not_censored = 1 - np.copy(is_censored.T * 1.0)\n",
    "\n",
    "        return tte_censored, not_censored, was_event, events, tte_actual\n",
    "    \n",
    "    tte_censored,not_censored,was_event,events,tte_actual = get_equal_spaced(n=n_timesteps,every_nth=every_nth)\n",
    "\n",
    "    # From https://keras.io/layers/recurrent/\n",
    "    # input shape rnn recurrent if return_sequences: (nb_samples, timesteps, input_dim)\n",
    "\n",
    "    u_train      = not_censored.T.reshape(n_sequences,n_timesteps,1)\n",
    "    x_train      = was_event.T.reshape(n_sequences,n_timesteps,1)\n",
    "    tte_censored = tte_censored.T.reshape(n_sequences,n_timesteps,1)\n",
    "    y_train      = np.append(tte_censored,u_train,axis=2) # (n_sequences,n_timesteps,2)\n",
    "\n",
    "    u_test       = np.ones(shape=(n_sequences,n_timesteps,1))\n",
    "    x_test       = np.copy(x_train)\n",
    "    tte_actual   = tte_actual.T.reshape(n_sequences,n_timesteps,1)\n",
    "    y_test       = np.append(tte_actual,u_test,axis=2) # (n_sequences,n_timesteps,2)\n",
    "\n",
    "    if not use_censored:\n",
    "        x_train = np.copy(x_test)\n",
    "        y_train = np.copy(y_test)\n",
    "    # Since the above is deterministic perfect fit is feasible. \n",
    "    # More noise->more fun so add noise to the training data:\n",
    "    \n",
    "    x_train = np.tile(x_train.T,n_repeats).T\n",
    "    y_train = np.tile(y_train.T,n_repeats).T\n",
    "\n",
    "    # Try with more than one feature TODO\n",
    "    x_train_new = np.zeros([x_train.shape[0],x_train.shape[1],n_features])\n",
    "    x_test_new = np.zeros([x_test.shape[0],x_test.shape[1],n_features])\n",
    "    for f in range(n_features):\n",
    "        x_train_new[:,:,f] = x_train[:,:,0]\n",
    "        x_test_new[:,:,f]  = x_test[:,:,0]\n",
    "        \n",
    "    x_train = x_train_new\n",
    "    x_test  = x_test_new\n",
    "    \n",
    "    # xtrain is signal XOR noise with probability noise_level\n",
    "    noise = np.random.binomial(1,noise_level,size=x_train.shape)\n",
    "    x_train = x_train+noise-x_train*noise\n",
    "    return y_train,x_train, y_test,x_test,events\n"
   ]
  },
  {
   "cell_type": "code",
   "execution_count": 4,
   "metadata": {
    "scrolled": true
   },
   "outputs": [
    {
     "name": "stdout",
     "output_type": "stream",
     "text": [
      "test shape (80, 200, 2) (80, 200, 1)\n"
     ]
    },
    {
     "data": {
      "image/png": "[encoded data removed]",
      "text/plain": [
       "<matplotlib.figure.Figure at 0x11f949da0>"
      ]
     },
     "metadata": {},
     "output_type": "display_data"
    },
    {
     "data": {
      "image/png": "[encoded data removed]",
      "text/plain": [
       "<matplotlib.figure.Figure at 0x14d75a080>"
      ]
     },
     "metadata": {},
     "output_type": "display_data"
    },
    {
     "name": "stdout",
     "output_type": "stream",
     "text": [
      "train shape (80000, 200, 2) (80000, 200, 1)\n"
     ]
    },
    {
     "data": {
      "image/png": "[encoded data removed]",
      "text/plain": [
       "<matplotlib.figure.Figure at 0x14d765828>"
      ]
     },
     "metadata": {},
     "output_type": "display_data"
    },
    {
     "data": {
      "image/png": "[encoded data removed]",
      "text/plain": [
       "<matplotlib.figure.Figure at 0x14dbf9e10>"
      ]
     },
     "metadata": {},
     "output_type": "display_data"
    },
    {
     "data": {
      "image/png": "[encoded data removed]",
      "text/plain": [
       "<matplotlib.figure.Figure at 0x164adfd30>"
      ]
     },
     "metadata": {},
     "output_type": "display_data"
    }
   ],
   "source": [
    "n_timesteps    = 200\n",
    "n_sequences = every_nth = 80\n",
    "n_features = 1\n",
    "n_repeats = 1000\n",
    "noise_level = 0.005\n",
    "use_censored = True\n",
    "\n",
    "y_train,x_train, y_test,x_test,events = get_data(n_timesteps, every_nth,n_repeats,noise_level,n_features,use_censored)\n",
    "\n",
    "print('test shape',y_test.shape,x_test.shape)\n",
    "plt.imshow(x_test[:,:,:].sum(axis=2)>0,interpolation=\"none\",cmap='Accent',aspect='auto')\n",
    "plt.title('x_test (lagged/deterministic event indicator)')\n",
    "plt.show()\n",
    "plt.imshow(y_test[:,:,0],interpolation=\"none\")\n",
    "plt.title('y_test[:,:,0] tte')\n",
    "plt.show()\n",
    "\n",
    "print('train shape',y_train.shape,x_train.shape)\n",
    "# (might look like the pattern is different but set n_repeats \n",
    "#  lower and you'll see that it's the same):\n",
    "plt.imshow(x_train[:,:,:].sum(axis=2)>0,interpolation=\"none\",cmap='Accent',aspect='auto')\n",
    "plt.title('x_train (lagged/noisy event indicator)')\n",
    "plt.show()\n",
    "plt.imshow(y_train[:,:,0],interpolation=\"none\",aspect='auto')\n",
    "plt.title('y_train[:,:,0] censored tte')\n",
    "plt.show()\n",
    "plt.imshow(y_train[:,:,1],interpolation=\"none\",cmap='Accent',aspect='auto')\n",
    "plt.title('y_train[:,:,1] u')\n",
    "plt.show()\n"
   ]
  },
  {
   "cell_type": "markdown",
   "metadata": {},
   "source": [
    "### To test your implementation, feed raw weibull data\n",
    "Uncomment and run cell below"
   ]
  },
  {
   "cell_type": "code",
   "execution_count": 5,
   "metadata": {},
   "outputs": [
    {
     "data": {
      "image/png": "[encoded data removed]",
      "text/plain": [
       "<matplotlib.figure.Figure at 0x15c615080>"
      ]
     },
     "metadata": {},
     "output_type": "display_data"
    },
    {
     "data": {
      "image/png": "[encoded data removed]",
      "text/plain": [
       "<matplotlib.figure.Figure at 0x11f98dfd0>"
      ]
     },
     "metadata": {},
     "output_type": "display_data"
    },
    {
     "name": "stdout",
     "output_type": "stream",
     "text": [
      "(10000, 100, 2)\n",
      "(10000, 100, 2)\n"
     ]
    }
   ],
   "source": [
    "# ## SANITY CHECK: Use pure Weibull data censored at C(ensoring point). \n",
    "# ## Should converge to the generating A(alpha) and B(eta) for each timestep\n",
    "def generate_data(A,B,C,shape,discrete_time):\n",
    "     # Generate Weibull random variables\n",
    "     W = np.sort(A*np.power(-np.log(np.random.uniform(0,1,shape)),1/B))\n",
    "    \n",
    "     if discrete_time:\n",
    "         C = np.floor(C)\n",
    "         W = np.floor(W)\n",
    "\n",
    "     U = np.less_equal(W, C)*1\n",
    "     Y = np.minimum(W,C)    \n",
    "     return W,Y,U\n",
    "\n",
    "n_sequences = 10000\n",
    "n_timesteps = 100\n",
    "n_features = 1\n",
    "\n",
    "y_test,y_train,u_train = generate_data(A=2.,\n",
    "                                        B=2.,\n",
    "                                        C=np.Inf, # <np.inf -> impose censoring\n",
    "                                        shape=[n_sequences,n_timesteps,n_features],\n",
    "                                        discrete_time=True)\n",
    "x_train = x_test = np.ones_like(y_train)\n",
    "\n",
    "y_test   = np.append(y_test,np.ones_like(y_test),axis=-1)\n",
    "y_train  = np.append(y_train,u_train,axis=-1)\n",
    "\n",
    "xlim_temp = y_test[:,:,0].max()\n",
    "plt.hist(y_test[:,:,0].flatten(),bins=100)\n",
    "plt.xlim(0,xlim_temp)\n",
    "plt.title('actual tte')\n",
    "plt.show()\n",
    "plt.hist(y_train[:,:,0].flatten(),bins=100)\n",
    "plt.title('censored tte')\n",
    "plt.xlim(0,xlim_temp)\n",
    "plt.show()\n",
    "print(y_test.shape)\n",
    "print(y_train.shape)"
   ]
  },
  {
   "cell_type": "code",
   "execution_count": 6,
   "metadata": {
    "scrolled": false
   },
   "outputs": [
    {
     "name": "stdout",
     "output_type": "stream",
     "text": [
      "init_alpha:  1.72545169391\n",
      "_________________________________________________________________\n",
      "Layer (type)                 Output Shape              Param #   \n",
      "=================================================================\n",
      "gru_1 (GRU)                  (None, 100, 1)            9         \n",
      "_________________________________________________________________\n",
      "dense_1 (Dense)              (None, 100, 2)            4         \n",
      "_________________________________________________________________\n",
      "lambda_1 (Lambda)            (None, 100, 2)            0         \n",
      "=================================================================\n",
      "Total params: 13\n",
      "Trainable params: 13\n",
      "Non-trainable params: 0\n",
      "_________________________________________________________________\n"
     ]
    }
   ],
   "source": [
    "# Prep. output activation layer.\n",
    "# Start at naive geometric (beta=1) MLE:\n",
    "tte_mean_train = np.nanmean(y_train[:,:,0])\n",
    "init_alpha = -1.0/np.log(1.0-1.0/(tte_mean_train+1.0) )\n",
    "init_alpha = init_alpha/np.nanmean(y_train[:,:,1]) # use if lots of censoring\n",
    "print('init_alpha: ',init_alpha)\n",
    "\n",
    "np.random.seed(1)\n",
    "# Store some history\n",
    "history = History()\n",
    "\n",
    "# Start building the model\n",
    "model = Sequential()\n",
    "#model.add(TimeDistributed(Dense(2), input_shape=(None, n_features)))\n",
    "model.add(GRU(1, input_shape=(n_timesteps, n_features),activation='tanh',return_sequences=True))\n",
    "\n",
    "model.add(Dense(2))\n",
    "model.add(Lambda(output_lambda, arguments={\"init_alpha\":init_alpha, \n",
    "                                               \"max_beta_value\":4.0}))\n",
    "\n",
    "model.compile(loss=weibull_loss_discrete, optimizer=adam(lr=.01))\n",
    "\n",
    "model.summary()"
   ]
  },
  {
   "cell_type": "code",
   "execution_count": 11,
   "metadata": {
    "scrolled": true
   },
   "outputs": [
    {
     "name": "stdout",
     "output_type": "stream",
     "text": [
      "Train on 10000 samples, validate on 10000 samples\n",
      "Epoch 1/40\n",
      "1s - loss: 1.3427 - val_loss: 1.3426\n",
      "Epoch 2/40\n",
      "1s - loss: 1.3427 - val_loss: 1.3426\n",
      "Epoch 3/40\n",
      "1s - loss: 1.3427 - val_loss: 1.3426\n",
      "Epoch 4/40\n",
      "1s - loss: 1.3427 - val_loss: 1.3427\n",
      "Epoch 5/40\n",
      "1s - loss: 1.3427 - val_loss: 1.3427\n",
      "Epoch 6/40\n",
      "1s - loss: 1.3426 - val_loss: 1.3426\n",
      "Epoch 7/40\n",
      "1s - loss: 1.3427 - val_loss: 1.3426\n",
      "Epoch 8/40\n",
      "1s - loss: 1.3427 - val_loss: 1.3425\n",
      "Epoch 9/40\n",
      "1s - loss: 1.3427 - val_loss: 1.3426\n",
      "Epoch 10/40\n",
      "1s - loss: 1.3427 - val_loss: 1.3427\n",
      "Epoch 11/40\n",
      "1s - loss: 1.3428 - val_loss: 1.3426\n",
      "Epoch 12/40\n",
      "1s - loss: 1.3427 - val_loss: 1.3427\n",
      "Epoch 13/40\n",
      "1s - loss: 1.3427 - val_loss: 1.3430\n",
      "Epoch 14/40\n",
      "1s - loss: 1.3427 - val_loss: 1.3428\n",
      "Epoch 15/40\n",
      "1s - loss: 1.3427 - val_loss: 1.3427\n",
      "Epoch 16/40\n",
      "1s - loss: 1.3427 - val_loss: 1.3428\n",
      "Epoch 17/40\n",
      "2s - loss: 1.3427 - val_loss: 1.3427\n",
      "Epoch 18/40\n",
      "1s - loss: 1.3427 - val_loss: 1.3429\n",
      "Epoch 19/40\n",
      "1s - loss: 1.3428 - val_loss: 1.3427\n",
      "Epoch 20/40\n",
      "1s - loss: 1.3426 - val_loss: 1.3426\n",
      "Epoch 21/40\n",
      "2s - loss: 1.3427 - val_loss: 1.3427\n",
      "Epoch 22/40\n",
      "1s - loss: 1.3427 - val_loss: 1.3428\n",
      "Epoch 23/40\n",
      "1s - loss: 1.3427 - val_loss: 1.3427\n",
      "Epoch 24/40\n",
      "1s - loss: 1.3427 - val_loss: 1.3428\n",
      "Epoch 25/40\n",
      "1s - loss: 1.3427 - val_loss: 1.3429\n",
      "Epoch 26/40\n",
      "1s - loss: 1.3427 - val_loss: 1.3428\n",
      "Epoch 27/40\n",
      "1s - loss: 1.3427 - val_loss: 1.3428\n",
      "Epoch 28/40\n",
      "1s - loss: 1.3427 - val_loss: 1.3430\n",
      "Epoch 29/40\n",
      "1s - loss: 1.3427 - val_loss: 1.3426\n",
      "Epoch 30/40\n",
      "1s - loss: 1.3427 - val_loss: 1.3428\n",
      "Epoch 31/40\n",
      "1s - loss: 1.3428 - val_loss: 1.3426\n",
      "Epoch 32/40\n",
      "1s - loss: 1.3427 - val_loss: 1.3427\n",
      "Epoch 33/40\n",
      "1s - loss: 1.3426 - val_loss: 1.3426\n",
      "Epoch 34/40\n",
      "1s - loss: 1.3427 - val_loss: 1.3427\n",
      "Epoch 35/40\n",
      "1s - loss: 1.3428 - val_loss: 1.3427\n",
      "Epoch 36/40\n",
      "1s - loss: 1.3427 - val_loss: 1.3428\n",
      "Epoch 37/40\n",
      "1s - loss: 1.3428 - val_loss: 1.3426\n",
      "Epoch 38/40\n",
      "1s - loss: 1.3427 - val_loss: 1.3427\n",
      "Epoch 39/40\n",
      "2s - loss: 1.3427 - val_loss: 1.3427\n",
      "Epoch 40/40\n",
      "1s - loss: 1.3426 - val_loss: 1.3425\n"
     ]
    },
    {
     "data": {
      "text/plain": [
       "<keras.callbacks.History at 0x120501550>"
      ]
     },
     "execution_count": 11,
     "metadata": {},
     "output_type": "execute_result"
    }
   ],
   "source": [
    "# Fit! (really don't need to train this long)\n",
    "np.random.seed(1)\n",
    "model.fit(x_train, y_train,\n",
    "          epochs=40, \n",
    "          batch_size=x_train.shape[0]//10, \n",
    "          verbose=2, \n",
    "          validation_data=(x_test, y_test),\n",
    "          callbacks=[history]\n",
    "          )"
   ]
  },
  {
   "cell_type": "code",
   "execution_count": 12,
   "metadata": {
    "scrolled": true
   },
   "outputs": [
    {
     "data": {
      "text/plain": [
       "<matplotlib.legend.Legend at 0x120761dd8>"
      ]
     },
     "execution_count": 12,
     "metadata": {},
     "output_type": "execute_result"
    },
    {
     "data": {
      "image/png": "[encoded data removed]",
      "text/plain": [
       "<matplotlib.figure.Figure at 0x120501a58>"
      ]
     },
     "metadata": {},
     "output_type": "display_data"
    }
   ],
   "source": [
    "plt.plot(history.history['loss'],    label='training')\n",
    "plt.plot(history.history['val_loss'],label='validation')\n",
    "plt.legend()"
   ]
  },
  {
   "cell_type": "markdown",
   "metadata": {},
   "source": [
    "# Predictions\n",
    "Try out training the model with different levels of noise. With more noise confidence gets lower (smaller beta). With less noise beta goes to maximum value and the predicted mode/peak probability is centered around the actual TTE."
   ]
  },
  {
   "cell_type": "code",
   "execution_count": null,
   "metadata": {
    "scrolled": false
   },
   "outputs": [],
   "source": [
    "# Make some parametric predictions\n",
    "print 'All test cases (no noise)'\n",
    "print '(each horizontal line is a sequence)'\n",
    "predicted = model.predict(x_test)\n",
    "plt.imshow(x_test[:every_nth,:,:].sum(axis=2)>0,interpolation=\"none\",cmap='Accent')\n",
    "plt.title('x features')\n",
    "plt.show()\n",
    "print(predicted.shape)\n",
    "plt.imshow(predicted[:,:,0],interpolation=\"none\")\n",
    "plt.title('alpha')\n",
    "plt.show()\n",
    "plt.imshow(predicted[:,:,1],interpolation=\"none\")\n",
    "plt.title('beta')\n",
    "plt.show()\n",
    "\n",
    "print 'Some training cases (noisy features)'\n",
    "predicted = model.predict(x_train[:every_nth,:,:])\n",
    "print(predicted.shape)\n",
    "plt.imshow(x_train[:every_nth,:,:].sum(axis=2)>0,interpolation=\"none\",cmap='Accent')\n",
    "plt.title('x features')\n",
    "plt.show()\n",
    "plt.imshow(predicted[:,:,0],interpolation=\"none\")\n",
    "plt.title('alpha')\n",
    "plt.show()\n",
    "plt.imshow(predicted[:,:,1],interpolation=\"none\")\n",
    "plt.title('beta')\n",
    "plt.show()\n"
   ]
  },
  {
   "cell_type": "code",
   "execution_count": null,
   "metadata": {},
   "outputs": [],
   "source": [
    "def weibull_quantiles(a, b, p):\n",
    "    return a*np.power(-np.log(1.0-p),1.0/b)\n",
    "\n",
    "def weibull_mode(a, b):\n",
    "    # Continuous mode. \n",
    "    # TODO (mathematically) prove how close it is to discretized mode\n",
    "    mode = a*np.power((b-1.0)/b,1.0/b)\n",
    "    mode[b<=1.0]=0.0\n",
    "    return mode\n",
    "\n",
    "def weibull_mean(a, b):\n",
    "    # Continuous mean. Theoretically at most 1 step below discretized mean \n",
    "    # E[T ] <= E[Td] + 1 true for positive distributions. \n",
    "    from scipy.special import gamma\n",
    "    return a*gamma(1.0+1.0/b)\n",
    "\n",
    "# TTE, Event Indicator, Alpha, Beta\n",
    "drawstyle = 'steps-post'\n",
    "\n",
    "print 'one training case:'\n",
    "batch_indx =every_nth/2\n",
    "a = predicted[batch_indx,:,0]\n",
    "b = predicted[batch_indx,:,1]\n",
    "this_x_train = x_train[batch_indx,:,:].mean(axis=1)\n",
    "this_x_test =  x_test[batch_indx,:,:].mean(axis=1)\n",
    "\n",
    "this_tte_train = y_train[batch_indx,:,0]\n",
    "this_tte_test =  y_test[batch_indx,:,0]\n",
    "\n",
    "plt.plot(a,drawstyle='steps-post')\n",
    "plt.title('predicted alpha')\n",
    "plt.show()\n",
    "plt.plot(b,drawstyle='steps-post')\n",
    "plt.title('predicted beta')\n",
    "plt.show()\n",
    "\n",
    "plt.bar(xrange(n_timesteps),this_x_test,color='black', label='lagged event')\n",
    "plt.bar(xrange(n_timesteps),this_x_train,color='red',linewidth=0,label='mean feature input')\n",
    "plt.title('event')\n",
    "plt.legend(bbox_to_anchor=(1.05, 1), loc=2, borderaxespad=0.)\n",
    "plt.show()\n",
    "\n",
    "plt.plot(this_tte_test ,label='actual tte',color='black',linewidth=2,drawstyle=drawstyle)\n",
    "plt.plot(this_tte_train,label='censored tte',color='black',linestyle='dashed',linewidth=2,drawstyle=drawstyle)\n",
    "\n",
    "plt.plot(weibull_quantiles(a,b,0.75),color='blue',label='pred <0.75',drawstyle=drawstyle)\n",
    "plt.plot(weibull_mode(a, b), color='red',linewidth=2,label='pred mode/peak prob',drawstyle=drawstyle)\n",
    "#plt.plot(weibull_mean(a, b), color='green',linewidth=1,label='pred mean',drawstyle='steps-post')\n",
    "plt.plot(weibull_quantiles(a,b,0.25),color='blue',label='pred <0.25',drawstyle=drawstyle)\n",
    "plt.xlabel('time')\n",
    "plt.ylabel('time to event')\n",
    "plt.bar(xrange(n_timesteps),this_x_train,color='red',label='mean feature input')\n",
    "\n",
    "plt.legend(bbox_to_anchor=(1.05, 1), loc=2, borderaxespad=0.)\n",
    "plt.show()"
   ]
  }
 ],
 "metadata": {
  "kernelspec": {
   "display_name": "Python 3",
   "language": "python",
   "name": "python3"
  },
  "language_info": {
   "codemirror_mode": {
    "name": "ipython",
    "version": 3
   },
   "file_extension": ".py",
   "mimetype": "text/x-python",
   "name": "python",
   "nbconvert_exporter": "python",
   "pygments_lexer": "ipython3",
   "version": "3.6.2"
  }
 },
 "nbformat": 4,
 "nbformat_minor": 2
}
